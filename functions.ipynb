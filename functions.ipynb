{
 "cells": [
  {
   "cell_type": "markdown",
   "metadata": {},
   "source": [
    "### Python Functions\n",
    "In this article, you'll learn about functions, what a function is, the syntax, components, and types of functions. Also, you'll learn to create a function in Python.\n",
    "\n",
    "#### What is a function in Python?\n",
    "In Python, a function is a group of related statements that performs a specific task.\n",
    "\n",
    "Functions help break our program into smaller and modular chunks. As our program grows larger and larger, functions make it more organized and manageable.\n",
    "\n",
    "Furthermore, it avoids repetition and makes the code reusable.\n",
    "\n",
    "### Syntax of Function"
   ]
  },
  {
   "cell_type": "code",
   "execution_count": null,
   "metadata": {},
   "outputs": [],
   "source": [
    "def function_name(parameters):\n",
    "    \"\"\"docstring\"\"\"\n",
    "    statement(s)"
   ]
  },
  {
   "cell_type": "markdown",
   "metadata": {},
   "source": [
    "Above shown is a function definition that consists of the following components.\n",
    "\n",
    "1. Keyword def that marks the start of the function header.\n",
    "2. A function name to uniquely identify the function. Function naming follows the same rules of writing identifiers in Python.\n",
    "3. Parameters (arguments) through which we pass values to a function. They are optional.\n",
    "4. A colon (:) to mark the end of the function header.\n",
    "5. Optional documentation string (docstring) to describe what the function does.\n",
    "6. One or more valid python statements that make up the function body. Statements must have the same indentation level (usually 4 spaces).\n",
    "7. An optional return statement to return a value from the function.\n",
    "### Example of a function"
   ]
  },
  {
   "cell_type": "code",
   "execution_count": 1,
   "metadata": {},
   "outputs": [],
   "source": [
    "def greet(name):\n",
    "    \"\"\"\n",
    "    This function greets to\n",
    "    the person passed in as\n",
    "    a parameter\n",
    "    \"\"\"\n",
    "    print(\"Hello, \" + name + \". Good morning!\")"
   ]
  },
  {
   "cell_type": "markdown",
   "metadata": {},
   "source": [
    "#### How to call a function in python?\n",
    "Once we have defined a function, we can call it from another function, program or even the Python prompt. To call a function we simply type the function name with appropriate parameters."
   ]
  },
  {
   "cell_type": "code",
   "execution_count": 4,
   "metadata": {},
   "outputs": [
    {
     "name": "stdout",
     "output_type": "stream",
     "text": [
      "Hello, Variable. Good morning!\n"
     ]
    }
   ],
   "source": [
    "greet('Variable')"
   ]
  },
  {
   "cell_type": "markdown",
   "metadata": {},
   "source": [
    "### Docstrings\n",
    "The first string after the function header is called the docstring and is short for documentation string. It is briefly used to explain what a function does."
   ]
  },
  {
   "cell_type": "markdown",
   "metadata": {},
   "source": [
    "Although optional, documentation is a good programming practice. Unless you can remember what you had for dinner last week, always document your code.\n",
    "\n",
    "In the above example, we have a docstring immediately below the function header. We generally use triple quotes so that docstring can extend up to multiple lines. This string is available to us as the __doc__ attribute of the function.\n",
    "\n",
    "### For example:\n",
    "\n",
    "Try running the following into the Python shell to see the output."
   ]
  },
  {
   "cell_type": "code",
   "execution_count": 5,
   "metadata": {},
   "outputs": [
    {
     "name": "stdout",
     "output_type": "stream",
     "text": [
      "\n",
      "    This function greets to\n",
      "    the person passed in as\n",
      "    a parameter\n",
      "    \n"
     ]
    }
   ],
   "source": [
    "print(greet.__doc__)"
   ]
  },
  {
   "cell_type": "markdown",
   "metadata": {},
   "source": [
    "### The return statement\n",
    "The return statement is used to exit a function and go back to the place from where it was called.\n",
    "\n",
    "### Syntax of return"
   ]
  },
  {
   "cell_type": "code",
   "execution_count": null,
   "metadata": {},
   "outputs": [],
   "source": [
    "return [expression_list]"
   ]
  },
  {
   "cell_type": "markdown",
   "metadata": {},
   "source": [
    "This statement can contain an expression that gets evaluated and the value is returned. If there is no expression in the statement or the return statement itself is not present inside a function, then the function will return the None object.\n",
    "\n",
    "### For example:"
   ]
  },
  {
   "cell_type": "code",
   "execution_count": null,
   "metadata": {},
   "outputs": [],
   "source": [
    "print(greet('May'))"
   ]
  },
  {
   "cell_type": "markdown",
   "metadata": {},
   "source": [
    "Here, None is the returned value since greet() directly prints the name and no return statement is used."
   ]
  },
  {
   "cell_type": "code",
   "execution_count": 6,
   "metadata": {},
   "outputs": [],
   "source": [
    "def absolute_value(num):\n",
    "    \"\"\"This function returns the absolute\n",
    "    value of the entered number\"\"\"\n",
    "\n",
    "    if num >= 0:\n",
    "        return num\n",
    "    else:\n",
    "        return -num"
   ]
  },
  {
   "cell_type": "code",
   "execution_count": 7,
   "metadata": {},
   "outputs": [
    {
     "name": "stdout",
     "output_type": "stream",
     "text": [
      "12\n"
     ]
    }
   ],
   "source": [
    "print(absolute_value(12))"
   ]
  },
  {
   "cell_type": "code",
   "execution_count": 8,
   "metadata": {},
   "outputs": [
    {
     "name": "stdout",
     "output_type": "stream",
     "text": [
      "12\n"
     ]
    }
   ],
   "source": [
    "print(absolute_value(-12))"
   ]
  },
  {
   "cell_type": "markdown",
   "metadata": {},
   "source": [
    "### How Function works in Python?"
   ]
  },
  {
   "cell_type": "markdown",
   "metadata": {},
   "source": [
    "![](https://cdn.programiz.com/sites/tutorial2program/files/python-how-function-works_1.jpg)"
   ]
  },
  {
   "cell_type": "markdown",
   "metadata": {},
   "source": [
    "### Scope and Lifetime of variables\n",
    "Scope of a variable is the portion of a program where the variable is recognized. Parameters and variables defined inside a function are not visible from outside the function. Hence, they have a local scope.\n",
    "\n",
    "The lifetime of a variable is the period throughout which the variable exits in the memory. The lifetime of variables inside a function is as long as the function executes.\n",
    "\n",
    "They are destroyed once we return from the function. Hence, a function does not remember the value of a variable from its previous calls.\n",
    "\n",
    "Here is an example to illustrate the scope of a variable inside a function."
   ]
  },
  {
   "cell_type": "code",
   "execution_count": null,
   "metadata": {},
   "outputs": [],
   "source": [
    "def my_func():\n",
    "    x = 10\n",
    "    print(\"Value inside function:\",x)\n"
   ]
  },
  {
   "cell_type": "code",
   "execution_count": null,
   "metadata": {},
   "outputs": [],
   "source": [
    "x = 20\n",
    "my_func()\n",
    "print(\"Value outside function:\",x)"
   ]
  },
  {
   "cell_type": "markdown",
   "metadata": {},
   "source": [
    "Here, we can see that the value of x is 20 initially. Even though the function my_func() changed the value of x to 10, it did not affect the value outside the function.\n",
    "\n",
    "This is because the variable x inside the function is different (local to the function) from the one outside. Although they have the same names, they are two different variables with different scopes.\n",
    "\n",
    "On the other hand, variables outside of the function are visible from inside. They have a global scope.\n",
    "\n",
    "We can read these values from inside the function but cannot change (write) them. In order to modify the value of variables outside the function, they must be declared as global variables using the keyword global."
   ]
  },
  {
   "cell_type": "markdown",
   "metadata": {},
   "source": [
    "### Example of functions"
   ]
  },
  {
   "cell_type": "code",
   "execution_count": null,
   "metadata": {},
   "outputs": [],
   "source": [
    "def my_square(number):\n",
    "    \"\"\" My square function\n",
    "     this finction takes one argument \n",
    "     and return the square of that\"\"\"\n",
    " \n",
    "    new_num = number **2\n",
    "    return new_num"
   ]
  },
  {
   "cell_type": "code",
   "execution_count": null,
   "metadata": {},
   "outputs": [],
   "source": [
    "my_square(10)"
   ]
  },
  {
   "cell_type": "code",
   "execution_count": null,
   "metadata": {},
   "outputs": [],
   "source": [
    "my_square.__doc__"
   ]
  },
  {
   "cell_type": "code",
   "execution_count": null,
   "metadata": {},
   "outputs": [],
   "source": [
    "def my_string_length(my_string):\n",
    "    \"\"\"My string length function\n",
    "    this function takes string as argument and \n",
    "    return the length of the string\"\"\"\n",
    "    my_len = len(my_string)\n",
    "    return my_len"
   ]
  },
  {
   "cell_type": "code",
   "execution_count": null,
   "metadata": {},
   "outputs": [],
   "source": [
    "my_string_length(\"Hi there\")"
   ]
  },
  {
   "cell_type": "code",
   "execution_count": null,
   "metadata": {},
   "outputs": [],
   "source": [
    "def the_upper(my_string):\n",
    "    \"\"\"the_upper function\n",
    "    this function takes input as astring and \n",
    "    return same string in upper case\"\"\"\n",
    "    my_upp = my_string.upper()\n",
    "    return my_upp"
   ]
  },
  {
   "cell_type": "code",
   "execution_count": null,
   "metadata": {},
   "outputs": [],
   "source": [
    "the_upper(\"Neil patil\")"
   ]
  },
  {
   "cell_type": "code",
   "execution_count": null,
   "metadata": {},
   "outputs": [],
   "source": [
    "print(the_upper.__doc__)"
   ]
  },
  {
   "cell_type": "code",
   "execution_count": null,
   "metadata": {},
   "outputs": [],
   "source": []
  },
  {
   "cell_type": "markdown",
   "metadata": {},
   "source": [
    "### Types of Functions\n",
    "Basically, we can divide functions into the following two types:\n",
    "\n",
    "1. Built-in functions - Functions that are built into Python.\n",
    "2. User-defined functions - Functions defined by the users themselves."
   ]
  },
  {
   "cell_type": "markdown",
   "metadata": {},
   "source": [
    "### Python Function Arguments\n",
    "In Python, you can define a function that takes variable number of arguments. In this article, you will learn to define such functions using default, keyword and arbitrary arguments."
   ]
  },
  {
   "cell_type": "markdown",
   "metadata": {},
   "source": [
    "\n",
    "#### Arguments\n",
    "In the user-defined function topic, we learned about defining a function and calling it. Otherwise, the function call will result in an error. Here is an example."
   ]
  },
  {
   "cell_type": "code",
   "execution_count": 9,
   "metadata": {},
   "outputs": [],
   "source": [
    "def greet(name, msg):\n",
    "    \"\"\"This function greets to\n",
    "    the person with the provided message\"\"\"\n",
    "    print(\"Hello\", name + ', ' + msg)"
   ]
  },
  {
   "cell_type": "code",
   "execution_count": 10,
   "metadata": {},
   "outputs": [
    {
     "name": "stdout",
     "output_type": "stream",
     "text": [
      "Hello Monica, Good morning!\n"
     ]
    }
   ],
   "source": [
    "greet(\"Monica\", \"Good morning!\")"
   ]
  },
  {
   "cell_type": "markdown",
   "metadata": {},
   "source": [
    "Here, the function greet() has two parameters.\n",
    "\n",
    "Since we have called this function with two arguments, it runs smoothly and we do not get any error.\n",
    "\n",
    "If we call it with a different number of arguments, the interpreter will show an error message. Below is a call to this function with one and no arguments along with their respective error messages."
   ]
  },
  {
   "cell_type": "code",
   "execution_count": 11,
   "metadata": {},
   "outputs": [
    {
     "ename": "TypeError",
     "evalue": "greet() missing 1 required positional argument: 'msg'",
     "output_type": "error",
     "traceback": [
      "\u001b[1;31m---------------------------------------------------------------------------\u001b[0m",
      "\u001b[1;31mTypeError\u001b[0m                                 Traceback (most recent call last)",
      "\u001b[1;32m<ipython-input-11-c4428734d52c>\u001b[0m in \u001b[0;36m<module>\u001b[1;34m\u001b[0m\n\u001b[1;32m----> 1\u001b[1;33m \u001b[0mgreet\u001b[0m\u001b[1;33m(\u001b[0m\u001b[1;34m\"Monica\"\u001b[0m\u001b[1;33m)\u001b[0m    \u001b[1;31m# only one argument\u001b[0m\u001b[1;33m\u001b[0m\u001b[1;33m\u001b[0m\u001b[0m\n\u001b[0m",
      "\u001b[1;31mTypeError\u001b[0m: greet() missing 1 required positional argument: 'msg'"
     ]
    }
   ],
   "source": [
    "greet(\"Monica\")    # only one argument"
   ]
  },
  {
   "cell_type": "code",
   "execution_count": 12,
   "metadata": {},
   "outputs": [
    {
     "ename": "TypeError",
     "evalue": "greet() missing 2 required positional arguments: 'name' and 'msg'",
     "output_type": "error",
     "traceback": [
      "\u001b[1;31m---------------------------------------------------------------------------\u001b[0m",
      "\u001b[1;31mTypeError\u001b[0m                                 Traceback (most recent call last)",
      "\u001b[1;32m<ipython-input-12-76bf7a927991>\u001b[0m in \u001b[0;36m<module>\u001b[1;34m\u001b[0m\n\u001b[1;32m----> 1\u001b[1;33m \u001b[0mgreet\u001b[0m\u001b[1;33m(\u001b[0m\u001b[1;33m)\u001b[0m    \u001b[1;31m# no arguments\u001b[0m\u001b[1;33m\u001b[0m\u001b[1;33m\u001b[0m\u001b[0m\n\u001b[0m",
      "\u001b[1;31mTypeError\u001b[0m: greet() missing 2 required positional arguments: 'name' and 'msg'"
     ]
    }
   ],
   "source": [
    "greet()    # no arguments"
   ]
  },
  {
   "cell_type": "markdown",
   "metadata": {},
   "source": [
    "### Variable Function Arguments\n",
    "Up until now, functions had a fixed number of arguments. In Python, there are other ways to define a function that can take variable number of arguments.\n",
    "\n",
    "Three different forms of this type are described below.\n",
    "\n",
    "#### Python Default Arguments\n",
    "Function arguments can have default values in Python.\n",
    "\n",
    "We can provide a default value to an argument by using the assignment operator (=). Here is an example."
   ]
  },
  {
   "cell_type": "code",
   "execution_count": 13,
   "metadata": {},
   "outputs": [],
   "source": [
    "def greet(name, msg=\"Good morning!\"):\n",
    "    \"\"\"\n",
    "    This function greets to\n",
    "    the person with the\n",
    "    provided message.\n",
    "\n",
    "    If the message is not provided,\n",
    "    it defaults to \"Good\n",
    "    morning!\"\n",
    "    \"\"\"\n",
    "\n",
    "    print(\"Hello\", name + ', ' + msg)"
   ]
  },
  {
   "cell_type": "code",
   "execution_count": 14,
   "metadata": {},
   "outputs": [
    {
     "name": "stdout",
     "output_type": "stream",
     "text": [
      "Hello Neil, Good morning!\n"
     ]
    }
   ],
   "source": [
    "greet('Neil')"
   ]
  },
  {
   "cell_type": "code",
   "execution_count": 15,
   "metadata": {},
   "outputs": [
    {
     "name": "stdout",
     "output_type": "stream",
     "text": [
      "Hello Panchi, How are you ? \n"
     ]
    }
   ],
   "source": [
    "greet('Panchi', 'How are you ? ')"
   ]
  },
  {
   "cell_type": "markdown",
   "metadata": {},
   "source": [
    "In this function, the parameter name does not have a default value and is required (mandatory) during a call.\n",
    "\n",
    "On the other hand, the parameter msg has a default value of \"Good morning!\". So, it is optional during a call. If a value is provided, it will overwrite the default value.\n",
    "\n",
    "Any number of arguments in a function can have a default value. But once we have a default argument, all the arguments to its right must also have default values.\n",
    "\n",
    "This means to say, non-default arguments cannot follow default arguments. For example, if we had defined the function header above as:"
   ]
  },
  {
   "cell_type": "code",
   "execution_count": null,
   "metadata": {},
   "outputs": [],
   "source": [
    "def greet(msg = \"Good morning!\", name):\n",
    "    print(\"Hi\")"
   ]
  },
  {
   "cell_type": "markdown",
   "metadata": {},
   "source": [
    "#### Python Keyword Arguments\n",
    "When we call a function with some values, these values get assigned to the arguments according to their position.\n",
    "\n",
    "For example, in the above function greet(), when we called it as greet(\"Bruce\", \"How do you do?\"), the value \"Bruce\" gets assigned to the argument name and similarly \"How do you do?\" to msg.\n",
    "\n",
    "Python allows functions to be called using keyword arguments. When we call functions in this way, the order (position) of the arguments can be changed. Following calls to the above function are all valid and produce the same result."
   ]
  },
  {
   "cell_type": "code",
   "execution_count": 17,
   "metadata": {},
   "outputs": [],
   "source": [
    "def greet(name, msg=\"Good morning!\"):\n",
    "    \"\"\"\n",
    "    This function greets to\n",
    "    the person with the\n",
    "    provided message.\n",
    "\n",
    "    If the message is not provided,\n",
    "    it defaults to \"Good\n",
    "    morning!\"\n",
    "    \"\"\"\n",
    "\n",
    "    print(\"Hello\", name + ', ' + msg)"
   ]
  },
  {
   "cell_type": "code",
   "execution_count": 18,
   "metadata": {},
   "outputs": [
    {
     "name": "stdout",
     "output_type": "stream",
     "text": [
      "Hello Bruce, How do you do?\n"
     ]
    }
   ],
   "source": [
    "# 2 keyword arguments\n",
    "greet(name = \"Bruce\",msg = \"How do you do?\")\n"
   ]
  },
  {
   "cell_type": "code",
   "execution_count": 19,
   "metadata": {},
   "outputs": [
    {
     "name": "stdout",
     "output_type": "stream",
     "text": [
      "Hello Bruce, How do you do?\n"
     ]
    }
   ],
   "source": [
    "# 2 keyword arguments (out of order)\n",
    "greet(msg = \"How do you do?\",name = \"Bruce\") "
   ]
  },
  {
   "cell_type": "code",
   "execution_count": 21,
   "metadata": {},
   "outputs": [
    {
     "ename": "SyntaxError",
     "evalue": "positional argument follows keyword argument (<ipython-input-21-5b03ad7337d2>, line 2)",
     "output_type": "error",
     "traceback": [
      "\u001b[1;36m  File \u001b[1;32m\"<ipython-input-21-5b03ad7337d2>\"\u001b[1;36m, line \u001b[1;32m2\u001b[0m\n\u001b[1;33m    greet(msg = \"How do you do?\",\"Bruce\")\u001b[0m\n\u001b[1;37m                                 ^\u001b[0m\n\u001b[1;31mSyntaxError\u001b[0m\u001b[1;31m:\u001b[0m positional argument follows keyword argument\n"
     ]
    }
   ],
   "source": [
    "# 1 positional, 1 keyword argument\n",
    "greet(msg = \"How do you do?\",\"Bruce\") "
   ]
  },
  {
   "cell_type": "markdown",
   "metadata": {},
   "source": [
    "As we can see, we can mix positional arguments with keyword arguments during a function call. But we must keep in mind that keyword arguments must follow positional arguments.\n",
    "\n",
    "Having a positional argument after keyword arguments will result in errors. For example, the function call as follows:"
   ]
  },
  {
   "cell_type": "code",
   "execution_count": 23,
   "metadata": {},
   "outputs": [
    {
     "name": "stdout",
     "output_type": "stream",
     "text": [
      "Hello Bruce, How do you do?\n"
     ]
    }
   ],
   "source": [
    "greet(\"Bruce\",\"How do you do?\")"
   ]
  },
  {
   "cell_type": "markdown",
   "metadata": {},
   "source": [
    "### Python Arbitrary Arguments\n",
    "Sometimes, we do not know in advance the number of arguments that will be passed into a function. Python allows us to handle this kind of situation through function calls with an arbitrary number of arguments.\n",
    "\n",
    "In the function definition, we use an asterisk (*) before the parameter name to denote this kind of argument. Here is an example.\n",
    "\n"
   ]
  },
  {
   "cell_type": "code",
   "execution_count": 24,
   "metadata": {},
   "outputs": [],
   "source": [
    "def greet(*names):\n",
    "    \"\"\"This function greets all\n",
    "    the person in the names tuple.\"\"\"\n",
    "\n",
    "    # names is a tuple with arguments\n",
    "    for name in names:\n",
    "        print(\"Hello\", name)"
   ]
  },
  {
   "cell_type": "code",
   "execution_count": 27,
   "metadata": {},
   "outputs": [
    {
     "name": "stdout",
     "output_type": "stream",
     "text": [
      "Hello Monica\n",
      "Hello Luke\n",
      "Hello Steve\n",
      "Hello John\n"
     ]
    }
   ],
   "source": [
    "greet(\"Monica\",\"Luke\", \"Steve\", \"John\")\n"
   ]
  },
  {
   "cell_type": "markdown",
   "metadata": {},
   "source": [
    "Here, we have called the function with multiple arguments. These arguments get wrapped up into a tuple before being passed into the function. Inside the function, we use a for loop to retrieve all the arguments back."
   ]
  },
  {
   "cell_type": "code",
   "execution_count": 28,
   "metadata": {},
   "outputs": [],
   "source": [
    "def my_sum(num1, num2):\n",
    "    \"\"\" My sum function\n",
    "    this function takes input as two number\n",
    "    and return their sum as output\"\"\"\n",
    "    num3 = num1 + num2\n",
    "    return num3"
   ]
  },
  {
   "cell_type": "code",
   "execution_count": 29,
   "metadata": {},
   "outputs": [
    {
     "data": {
      "text/plain": [
       "30"
      ]
     },
     "execution_count": 29,
     "metadata": {},
     "output_type": "execute_result"
    }
   ],
   "source": [
    "my_sum(10, 20)"
   ]
  },
  {
   "cell_type": "code",
   "execution_count": 30,
   "metadata": {},
   "outputs": [
    {
     "data": {
      "text/plain": [
       "15"
      ]
     },
     "execution_count": 30,
     "metadata": {},
     "output_type": "execute_result"
    }
   ],
   "source": [
    "my_sum(num1=5, num2= 10)"
   ]
  },
  {
   "cell_type": "code",
   "execution_count": 31,
   "metadata": {},
   "outputs": [
    {
     "data": {
      "text/plain": [
       "34"
      ]
     },
     "execution_count": 31,
     "metadata": {},
     "output_type": "execute_result"
    }
   ],
   "source": [
    "my_sum(num2=32,num1= 2)"
   ]
  },
  {
   "cell_type": "code",
   "execution_count": 32,
   "metadata": {},
   "outputs": [
    {
     "data": {
      "text/plain": [
       "22"
      ]
     },
     "execution_count": 32,
     "metadata": {},
     "output_type": "execute_result"
    }
   ],
   "source": [
    "my_sum(10, num2=12)"
   ]
  },
  {
   "cell_type": "code",
   "execution_count": 36,
   "metadata": {},
   "outputs": [
    {
     "data": {
      "text/plain": [
       "20"
      ]
     },
     "execution_count": 36,
     "metadata": {},
     "output_type": "execute_result"
    }
   ],
   "source": [
    "my_sum(10, num2=10)"
   ]
  },
  {
   "cell_type": "code",
   "execution_count": 37,
   "metadata": {},
   "outputs": [
    {
     "data": {
      "text/plain": [
       "' My sum function\\n    this function takes input as two number\\n    and return their sum as output'"
      ]
     },
     "execution_count": 37,
     "metadata": {},
     "output_type": "execute_result"
    }
   ],
   "source": [
    "my_sum.__doc__"
   ]
  },
  {
   "cell_type": "code",
   "execution_count": null,
   "metadata": {},
   "outputs": [],
   "source": [
    "def my_sum_default(num1,  num2 = 10):\n",
    "    '''my_sum_default function\n",
    "    takes input as a two number \n",
    "    and return sum of them as output'''\n",
    "    num3 = num1 + num2\n",
    "    return num3"
   ]
  },
  {
   "cell_type": "code",
   "execution_count": null,
   "metadata": {},
   "outputs": [],
   "source": [
    "my_sum_default(10)"
   ]
  },
  {
   "cell_type": "code",
   "execution_count": null,
   "metadata": {},
   "outputs": [],
   "source": [
    "my_sum_default(20,20)"
   ]
  },
  {
   "cell_type": "code",
   "execution_count": null,
   "metadata": {},
   "outputs": [],
   "source": [
    "my_sum_default(num2=10, num1= 10)"
   ]
  },
  {
   "cell_type": "code",
   "execution_count": null,
   "metadata": {},
   "outputs": [],
   "source": [
    "my_sum_default(num1=10, num2=30)"
   ]
  },
  {
   "cell_type": "code",
   "execution_count": null,
   "metadata": {},
   "outputs": [],
   "source": [
    "my_sum_default(num2=10)"
   ]
  },
  {
   "cell_type": "markdown",
   "metadata": {},
   "source": [
    "### Python Recursion\n",
    "In this tutorial, you will learn to create a recursive function (a function that calls itself)."
   ]
  },
  {
   "cell_type": "markdown",
   "metadata": {},
   "source": [
    "#### What is recursion?\n",
    "Recursion is the process of defining something in terms of itself.\n",
    "\n",
    "A physical world example would be to place two parallel mirrors facing each other. Any object in between them would be reflected recursively.\n",
    "\n",
    "#### Python Recursive Function\n",
    "In Python, we know that a function can call other functions. It is even possible for the function to call itself. These types of construct are termed as recursive functions.\n",
    "\n",
    "The following image shows the working of a recursive function called recurse."
   ]
  },
  {
   "cell_type": "markdown",
   "metadata": {},
   "source": [
    "![](https://cdn.programiz.com/sites/tutorial2program/files/python-recursion-function.png)"
   ]
  },
  {
   "cell_type": "markdown",
   "metadata": {},
   "source": [
    "Following is an example of a recursive function to find the factorial of an integer.\n",
    "\n",
    "Factorial of a number is the product of all the integers from 1 to that number. For example, the factorial of 6 (denoted as 6!) is 1*2*3*4*5*6 = 720.\n",
    "\n",
    "#### Example of a recursive function"
   ]
  },
  {
   "cell_type": "code",
   "execution_count": 38,
   "metadata": {},
   "outputs": [],
   "source": [
    "def factorial(x):\n",
    "    \"\"\"This is a recursive function\n",
    "    to find the factorial of an integer\"\"\"\n",
    "\n",
    "    if x == 1:\n",
    "        return 1\n",
    "    else:\n",
    "        return (x * factorial(x-1))\n"
   ]
  },
  {
   "cell_type": "code",
   "execution_count": 41,
   "metadata": {},
   "outputs": [
    {
     "name": "stdout",
     "output_type": "stream",
     "text": [
      "The factorial of 5 is 120\n"
     ]
    }
   ],
   "source": [
    "num = 5\n",
    "print(\"The factorial of\", num, \"is\", factorial(num))"
   ]
  },
  {
   "cell_type": "markdown",
   "metadata": {},
   "source": [
    "In the above example, factorial() is a recursive function as it calls itself.\n",
    "\n",
    "\n",
    "When we call this function with a positive integer, it will recursively call itself by decreasing the number.\n",
    "\n",
    "Each function multiplies the number with the factorial of the number below it until it is equal to one. This recursive call can be explained in the following steps."
   ]
  },
  {
   "cell_type": "code",
   "execution_count": null,
   "metadata": {},
   "outputs": [],
   "source": [
    "factorial(3)          # 1st call with 3\n",
    "3 * factorial(2)      # 2nd call with 2\n",
    "3 * 2 * factorial(1)  # 3rd call with 1\n",
    "3 * 2 * 1             # return from 3rd call as number=1\n",
    "3 * 2                 # return from 2nd call\n",
    "6                     # return from 1st call"
   ]
  },
  {
   "cell_type": "markdown",
   "metadata": {},
   "source": [
    "Let's look at an image that shows a step-by-step process of what is going on:"
   ]
  },
  {
   "cell_type": "markdown",
   "metadata": {},
   "source": [
    "![](https://cdn.programiz.com/sites/tutorial2program/files/python-factorial-function.png)"
   ]
  },
  {
   "cell_type": "markdown",
   "metadata": {},
   "source": [
    "Our recursion ends when the number reduces to 1. This is called the base condition.\n",
    "\n",
    "Every recursive function must have a base condition that stops the recursion or else the function calls itself infinitely.\n",
    "\n",
    "The Python interpreter limits the depths of recursion to help avoid infinite recursions, resulting in stack overflows.\n",
    "\n",
    "By default, the maximum depth of recursion is 1000. If the limit is crossed, it results in RecursionError. Let's look at one such condition."
   ]
  },
  {
   "cell_type": "code",
   "execution_count": null,
   "metadata": {},
   "outputs": [],
   "source": [
    "def recursor():\n",
    "    recursor()\n",
    "recursor()"
   ]
  },
  {
   "cell_type": "markdown",
   "metadata": {},
   "source": [
    "### Advantages of Recursion\n",
    "1. Recursive functions make the code look clean and elegant.\n",
    "2. A complex task can be broken down into simpler sub-problems using recursion.\n",
    "3. Sequence generation is easier with recursion than using some nested iteration.\n",
    "\n",
    "### Disadvantages of Recursion\n",
    "1. Sometimes the logic behind recursion is hard to follow through.\n",
    "2. Recursive calls are expensive (inefficient) as they take up a lot of memory and time.\n",
    "3. Recursive functions are hard to debug."
   ]
  },
  {
   "cell_type": "markdown",
   "metadata": {},
   "source": [
    "### Python Anonymous/Lambda Function\n",
    "In this article, you'll learn about the anonymous function, also known as lambda functions. You'll learn what they are, their syntax and how to use them (with examples)."
   ]
  },
  {
   "cell_type": "markdown",
   "metadata": {},
   "source": [
    "#### What are lambda functions in Python?\n",
    "In Python, an anonymous function is a function that is defined without a name.\n",
    "\n",
    "While normal functions are defined using the def keyword in Python, anonymous functions are defined using the lambda keyword.\n",
    "\n",
    "Hence, anonymous functions are also called lambda functions."
   ]
  },
  {
   "cell_type": "markdown",
   "metadata": {},
   "source": [
    "#### How to use lambda Functions in Python?\n",
    "A lambda function in python has the following syntax.\n",
    "\n",
    "#### Syntax of Lambda Function in python"
   ]
  },
  {
   "cell_type": "code",
   "execution_count": null,
   "metadata": {},
   "outputs": [],
   "source": [
    "lambda arguments: expression"
   ]
  },
  {
   "cell_type": "markdown",
   "metadata": {},
   "source": [
    "Lambda functions can have any number of arguments but only one expression. The expression is evaluated and returned. Lambda functions can be used wherever function objects are required."
   ]
  },
  {
   "cell_type": "markdown",
   "metadata": {},
   "source": [
    "#### Example of Lambda Function in python\n",
    "Here is an example of lambda function that doubles the input value."
   ]
  },
  {
   "cell_type": "code",
   "execution_count": null,
   "metadata": {},
   "outputs": [],
   "source": [
    "# Program to show the use of lambda functions\n",
    "double = lambda x: x * 2\n",
    "\n",
    "print(double(5))"
   ]
  },
  {
   "cell_type": "markdown",
   "metadata": {},
   "source": [
    "In the above program, lambda x: x * 2 is the lambda function. Here x is the argument and x * 2 is the expression that gets evaluated and returned.\n",
    "\n",
    "This function has no name. It returns a function object which is assigned to the identifier double. We can now call it as a normal function. The statement"
   ]
  },
  {
   "cell_type": "code",
   "execution_count": null,
   "metadata": {},
   "outputs": [],
   "source": [
    "double = lambda x: x * 2"
   ]
  },
  {
   "cell_type": "markdown",
   "metadata": {},
   "source": [
    "is nearly the same as:"
   ]
  },
  {
   "cell_type": "code",
   "execution_count": null,
   "metadata": {},
   "outputs": [],
   "source": [
    "def double(x):\n",
    "   return x * 2"
   ]
  },
  {
   "cell_type": "code",
   "execution_count": null,
   "metadata": {},
   "outputs": [],
   "source": [
    "the_upper = lambda my_string: my_string.upper()"
   ]
  },
  {
   "cell_type": "code",
   "execution_count": null,
   "metadata": {},
   "outputs": [],
   "source": [
    "print(the_upper(\"numbers\"))"
   ]
  },
  {
   "cell_type": "code",
   "execution_count": null,
   "metadata": {},
   "outputs": [],
   "source": [
    "the_len = lambda my_string: len(my_string)"
   ]
  },
  {
   "cell_type": "code",
   "execution_count": null,
   "metadata": {},
   "outputs": [],
   "source": [
    "print(the_len('Hey there'))"
   ]
  },
  {
   "cell_type": "code",
   "execution_count": null,
   "metadata": {},
   "outputs": [],
   "source": [
    "the_square = lambda my_num: my_num ** 2"
   ]
  },
  {
   "cell_type": "code",
   "execution_count": null,
   "metadata": {},
   "outputs": [],
   "source": [
    "print(the_square(5))"
   ]
  },
  {
   "cell_type": "markdown",
   "metadata": {},
   "source": [
    "### Use of Lambda Function in python\n",
    "We use lambda functions when we require a nameless function for a short period of time.\n",
    "\n",
    "In Python, we generally use it as an argument to a higher-order function (a function that takes in other functions as arguments). Lambda functions are used along with built-in functions like filter(), map() etc.\n",
    "\n",
    "### Example use with filter()\n",
    "The filter() function in Python takes in a function and a list as arguments.\n",
    "\n",
    "The function is called with all the items in the list and a new list is returned which contains items for which the function evaluates to True.\n",
    "\n",
    "Here is an example use of filter() function to filter out only even numbers from a list."
   ]
  },
  {
   "cell_type": "code",
   "execution_count": null,
   "metadata": {},
   "outputs": [],
   "source": [
    "# Program to filter out only the even items from a list\n",
    "my_list = [1, 5, 4, 6, 8, 11, 3, 12]\n"
   ]
  },
  {
   "cell_type": "code",
   "execution_count": null,
   "metadata": {},
   "outputs": [],
   "source": [
    "new_list = list(filter(lambda x: (x%2 == 0) , my_list))\n"
   ]
  },
  {
   "cell_type": "code",
   "execution_count": null,
   "metadata": {},
   "outputs": [],
   "source": [
    "print(new_list)"
   ]
  },
  {
   "cell_type": "code",
   "execution_count": null,
   "metadata": {},
   "outputs": [],
   "source": []
  },
  {
   "cell_type": "code",
   "execution_count": null,
   "metadata": {},
   "outputs": [],
   "source": [
    "new_list2 = list(filter(lambda x: (x%2 != 0), my_list))"
   ]
  },
  {
   "cell_type": "code",
   "execution_count": null,
   "metadata": {},
   "outputs": [],
   "source": [
    "new_list2"
   ]
  },
  {
   "cell_type": "code",
   "execution_count": null,
   "metadata": {},
   "outputs": [],
   "source": []
  },
  {
   "cell_type": "code",
   "execution_count": null,
   "metadata": {},
   "outputs": [],
   "source": [
    "list3 = ['hi', 'hey', 'hello', 'rakesh', 'ramesh', 'rajesh']"
   ]
  },
  {
   "cell_type": "code",
   "execution_count": null,
   "metadata": {},
   "outputs": [],
   "source": [
    "new_list3 = list(filter(lambda x: (len(x) <= 3), list3))"
   ]
  },
  {
   "cell_type": "code",
   "execution_count": null,
   "metadata": {},
   "outputs": [],
   "source": [
    "new_list3"
   ]
  },
  {
   "cell_type": "markdown",
   "metadata": {},
   "source": [
    "### Example use with map()\n",
    "The map() function in Python takes in a function and a list.\n",
    "\n",
    "The function is called with all the items in the list and a new list is returned which contains items returned by that function for each item.\n",
    "\n",
    "Here is an example use of map() function to double all the items in a list."
   ]
  },
  {
   "cell_type": "code",
   "execution_count": null,
   "metadata": {},
   "outputs": [],
   "source": [
    "# Program to double each item in a list using map()\n",
    "\n",
    "my_list = [1, 5, 4, 6, 8, 11, 3, 12]"
   ]
  },
  {
   "cell_type": "code",
   "execution_count": null,
   "metadata": {},
   "outputs": [],
   "source": [
    "new_list = list(map(lambda x: x * 2 , my_list))"
   ]
  },
  {
   "cell_type": "code",
   "execution_count": null,
   "metadata": {},
   "outputs": [],
   "source": [
    "print(new_list)"
   ]
  },
  {
   "cell_type": "code",
   "execution_count": null,
   "metadata": {},
   "outputs": [],
   "source": []
  },
  {
   "cell_type": "code",
   "execution_count": null,
   "metadata": {},
   "outputs": [],
   "source": [
    "new_list4 = list(map(lambda x : (x ** 2), my_list))"
   ]
  },
  {
   "cell_type": "code",
   "execution_count": null,
   "metadata": {},
   "outputs": [],
   "source": [
    "new_list4"
   ]
  },
  {
   "cell_type": "code",
   "execution_count": null,
   "metadata": {},
   "outputs": [],
   "source": []
  },
  {
   "cell_type": "code",
   "execution_count": null,
   "metadata": {},
   "outputs": [],
   "source": [
    "list3 = ['hi', 'hey', 'hello', 'rakesh', 'ramesh', 'rajesh']"
   ]
  },
  {
   "cell_type": "code",
   "execution_count": null,
   "metadata": {},
   "outputs": [],
   "source": [
    "my_list5 = list(map(lambda x : x.upper(), list3))"
   ]
  },
  {
   "cell_type": "code",
   "execution_count": null,
   "metadata": {},
   "outputs": [],
   "source": [
    "my_list5"
   ]
  },
  {
   "cell_type": "code",
   "execution_count": null,
   "metadata": {},
   "outputs": [],
   "source": []
  },
  {
   "cell_type": "markdown",
   "metadata": {},
   "source": [
    "### Python Global, Local and Nonlocal variables\n",
    "In this tutorial, you’ll learn about Python Global variables, Local variables, Nonlocal variables and where to use them."
   ]
  },
  {
   "cell_type": "markdown",
   "metadata": {},
   "source": [
    "#### Global Variables\n",
    "In Python, a variable declared outside of the function or in global scope is known as a global variable. This means that a global variable can be accessed inside or outside of the function.\n",
    "\n",
    "Let's see an example of how a global variable is created in Python.\n",
    "\n",
    "#### Example 1: Create a Global Variable"
   ]
  },
  {
   "cell_type": "code",
   "execution_count": null,
   "metadata": {},
   "outputs": [],
   "source": [
    "x = \"global\"\n",
    "\n",
    "def foo():\n",
    "    print(\"x inside:\", x)\n"
   ]
  },
  {
   "cell_type": "code",
   "execution_count": null,
   "metadata": {},
   "outputs": [],
   "source": [
    "foo()"
   ]
  },
  {
   "cell_type": "code",
   "execution_count": null,
   "metadata": {},
   "outputs": [],
   "source": [
    "print(\"x outside:\", x)"
   ]
  },
  {
   "cell_type": "markdown",
   "metadata": {},
   "source": [
    "In the above code, we created x as a global variable and defined a foo() to print the global variable x. Finally, we call the foo() which will print the value of x.\n",
    "\n",
    "What if you want to change the value of x inside a function?"
   ]
  },
  {
   "cell_type": "code",
   "execution_count": null,
   "metadata": {},
   "outputs": [],
   "source": [
    "x = \"global\"\n",
    "\n",
    "def foo():\n",
    "    global x\n",
    "    x = x * 2\n",
    "    print(x)"
   ]
  },
  {
   "cell_type": "code",
   "execution_count": null,
   "metadata": {},
   "outputs": [],
   "source": [
    "foo()"
   ]
  },
  {
   "cell_type": "code",
   "execution_count": null,
   "metadata": {},
   "outputs": [],
   "source": [
    "x"
   ]
  },
  {
   "cell_type": "markdown",
   "metadata": {},
   "source": [
    "The output shows an error because Python treats x as a local variable and x is also not defined inside foo().\n",
    "\n",
    "To make this work, we use the global keyword. Visit Python Global Keyword to learn more."
   ]
  },
  {
   "cell_type": "markdown",
   "metadata": {},
   "source": [
    "#### Local Variables\n",
    "A variable declared inside the function's body or in the local scope is known as a local variable.\n",
    "\n",
    "#### Example 2: Accessing local variable outside the scope"
   ]
  },
  {
   "cell_type": "code",
   "execution_count": null,
   "metadata": {},
   "outputs": [],
   "source": [
    "def foo():\n",
    "    y = \"local\"\n"
   ]
  },
  {
   "cell_type": "code",
   "execution_count": null,
   "metadata": {},
   "outputs": [],
   "source": [
    "foo()"
   ]
  },
  {
   "cell_type": "code",
   "execution_count": null,
   "metadata": {},
   "outputs": [],
   "source": [
    "print(y)"
   ]
  },
  {
   "cell_type": "markdown",
   "metadata": {},
   "source": [
    "The output shows an error because we are trying to access a local variable y in a global scope whereas the local variable only works inside foo() or local scope.\n",
    "\n",
    "Let's see an example on how a local variable is created in Python."
   ]
  },
  {
   "cell_type": "markdown",
   "metadata": {},
   "source": [
    "Let's see an example on how a local variable is created in Python.\n",
    "\n",
    "### Example 3: Create a Local Variable\n",
    "Normally, we declare a variable inside the function to create a local variable."
   ]
  },
  {
   "cell_type": "code",
   "execution_count": null,
   "metadata": {},
   "outputs": [],
   "source": [
    "def foo():\n",
    "    y = \"local\"\n",
    "    print(y)"
   ]
  },
  {
   "cell_type": "code",
   "execution_count": null,
   "metadata": {},
   "outputs": [],
   "source": [
    "foo()"
   ]
  },
  {
   "cell_type": "markdown",
   "metadata": {},
   "source": [
    "Let's take a look at the earlier problem where x was a global variable and we wanted to modify x inside foo()."
   ]
  },
  {
   "cell_type": "markdown",
   "metadata": {},
   "source": [
    "#### Global and local variables\n",
    "\n",
    "Here, we will show how to use global variables and local variables in the same code.\n",
    "\n",
    "#### Example 4: Using Global and Local variables in the same code"
   ]
  },
  {
   "cell_type": "code",
   "execution_count": null,
   "metadata": {},
   "outputs": [],
   "source": [
    "x = \"global \"\n",
    "\n",
    "def foo():\n",
    "    global x\n",
    "    y = \"local\"\n",
    "    x = x * 2\n",
    "    print(x)\n",
    "    print(y)"
   ]
  },
  {
   "cell_type": "code",
   "execution_count": null,
   "metadata": {},
   "outputs": [],
   "source": [
    "foo()"
   ]
  },
  {
   "cell_type": "markdown",
   "metadata": {},
   "source": [
    "In the above code, we declare x as a global and y as a local variable in the foo(). Then, we use multiplication operator * to modify the global variable x and we print both x and y.\n",
    "\n",
    "After calling the foo(), the value of x becomes global global because we used the x * 2 to print two times global. After that, we print the value of local variable y i.e local.\n",
    "\n",
    "### Example 5: Global variable and Local variable with same name\n"
   ]
  },
  {
   "cell_type": "code",
   "execution_count": null,
   "metadata": {},
   "outputs": [],
   "source": [
    "x = 5\n",
    "\n",
    "def foo():\n",
    "    x = 10\n",
    "    print(\"local x:\", x)\n"
   ]
  },
  {
   "cell_type": "code",
   "execution_count": null,
   "metadata": {},
   "outputs": [],
   "source": [
    "foo()\n",
    "print(\"global x:\", x)"
   ]
  },
  {
   "cell_type": "markdown",
   "metadata": {},
   "source": [
    "In the above code, we used the same name x for both global variable and local variable. We get a different result when we print the same variable because the variable is declared in both scopes, i.e. the local scope inside foo() and global scope outside foo().\n",
    "\n",
    "When we print the variable inside foo() it outputs local x: 10. This is called the local scope of the variable.\n",
    "\n",
    "Similarly, when we print the variable outside the foo(), it outputs global x: 5. This is called the global scope of the variable.\n",
    "\n",
    "### Nonlocal Variables\n",
    "Nonlocal variables are used in nested functions whose local scope is not defined. This means that the variable can be neither in the local nor the global scope.\n",
    "\n",
    "Let's see an example of how a nonlocal variable is used in Python.\n",
    "\n",
    "We use nonlocal keywords to create nonlocal variables.\n",
    "\n",
    "#### Example 6: Create a nonlocal variable"
   ]
  },
  {
   "cell_type": "code",
   "execution_count": null,
   "metadata": {},
   "outputs": [],
   "source": [
    "def outer():\n",
    "    x = \"local\"\n",
    "\n",
    "    def inner():\n",
    "        nonlocal x\n",
    "        x = \"nonlocal\"\n",
    "        print(\"inner:\", x)\n",
    "\n",
    "    inner()\n",
    "    print(\"outer:\", x)\n"
   ]
  },
  {
   "cell_type": "code",
   "execution_count": null,
   "metadata": {},
   "outputs": [],
   "source": [
    "outer()"
   ]
  },
  {
   "cell_type": "markdown",
   "metadata": {},
   "source": [
    "In the above code, there is a nested inner() function. We use nonlocal keywords to create a nonlocal variable. The inner() function is defined in the scope of another function outer().\n",
    "\n",
    "#### Note : If we change the value of a nonlocal variable, the changes appear in the local variable."
   ]
  },
  {
   "cell_type": "markdown",
   "metadata": {},
   "source": [
    "### Python Global Keyword\n",
    "In this article, you’ll learn about the global keyword, global variable and when to use global keywords."
   ]
  },
  {
   "cell_type": "markdown",
   "metadata": {},
   "source": [
    "Before reading this article, make sure you have got some basics of Python Global, Local and Nonlocal Variables.\n",
    "\n",
    "#### What is the global keyword\n",
    "In Python, global keyword allows you to modify the variable outside of the current scope. It is used to create a global variable and make changes to the variable in a local context."
   ]
  },
  {
   "cell_type": "markdown",
   "metadata": {},
   "source": [
    "### Rules of global Keyword\n",
    "The basic rules for global keyword in Python are:\n",
    "\n",
    "When we create a variable inside a function, it is local by default.\n",
    "When we define a variable outside of a function, it is global by default. You don't have to use global keyword.\n",
    "We use global keyword to read and write a global variable inside a function.\n",
    "Use of global keyword outside a function has no effect."
   ]
  },
  {
   "cell_type": "markdown",
   "metadata": {},
   "source": [
    "### Use of global Keyword\n",
    "Let's take an example.\n",
    "\n",
    "Example 1: Accessing global Variable From Inside a Function"
   ]
  },
  {
   "cell_type": "code",
   "execution_count": null,
   "metadata": {},
   "outputs": [],
   "source": [
    "c = 1 # global variable\n",
    "\n",
    "def add():\n",
    "    print(c)\n"
   ]
  },
  {
   "cell_type": "code",
   "execution_count": null,
   "metadata": {},
   "outputs": [],
   "source": [
    "add()"
   ]
  },
  {
   "cell_type": "markdown",
   "metadata": {},
   "source": [
    "However, we may have some scenarios where we need to modify the global variable from inside a function.\n",
    "\n",
    "#### Example 2: Modifying Global Variable From Inside the Function"
   ]
  },
  {
   "cell_type": "code",
   "execution_count": null,
   "metadata": {},
   "outputs": [],
   "source": [
    "c = 1 # global variable\n",
    "    \n",
    "def add():\n",
    "    c = c + 2 # increment c by 2\n",
    "    print(c)"
   ]
  },
  {
   "cell_type": "code",
   "execution_count": null,
   "metadata": {},
   "outputs": [],
   "source": [
    "add()"
   ]
  },
  {
   "cell_type": "markdown",
   "metadata": {},
   "source": [
    "This is because we can only access the global variable but cannot modify it from inside the function.\n",
    "\n",
    "The solution for this is to use the global keyword.\n",
    "\n",
    "#### Example 3: Changing Global Variable From Inside a Function using global"
   ]
  },
  {
   "cell_type": "code",
   "execution_count": null,
   "metadata": {},
   "outputs": [],
   "source": [
    "c = 0 # global variable\n",
    "\n",
    "def add():\n",
    "    global c\n",
    "    c = c + 2 # increment by 2\n",
    "    print(\"Inside add():\", c)\n"
   ]
  },
  {
   "cell_type": "code",
   "execution_count": null,
   "metadata": {},
   "outputs": [],
   "source": [
    "add()\n",
    "print(\"In main:\", c)"
   ]
  },
  {
   "cell_type": "markdown",
   "metadata": {},
   "source": [
    "In the above program, we define c as a global keyword inside the add() function.\n",
    "\n",
    "Then, we increment the variable c by 1, i.e c = c + 2. After that, we call the add() function. Finally, we print the global variable c.\n",
    "\n",
    "As we can see, change also occurred on the global variable outside the function, c = 2.\n",
    "\n",
    "### Global Variables Across Python Modules"
   ]
  },
  {
   "cell_type": "markdown",
   "metadata": {},
   "source": [
    "In Python, we create a single module config.py to hold global variables and share information across Python modules within the same program.\n",
    "\n",
    "Here is how we can share global variables across the python modules.\n",
    "\n",
    "#### Example 4: Share a global Variable Across Python Modules\n",
    "Create a config.py file, to store global variables"
   ]
  },
  {
   "cell_type": "code",
   "execution_count": null,
   "metadata": {},
   "outputs": [],
   "source": [
    "a = 0\n",
    "b = \"empty\""
   ]
  },
  {
   "cell_type": "markdown",
   "metadata": {},
   "source": [
    "Create a update.py file, to change global variables"
   ]
  },
  {
   "cell_type": "code",
   "execution_count": null,
   "metadata": {},
   "outputs": [],
   "source": [
    "import config\n",
    "\n",
    "config.a = 10\n",
    "config.b = \"alphabet\""
   ]
  },
  {
   "cell_type": "markdown",
   "metadata": {},
   "source": [
    "Create a main.py file, to test changes in value"
   ]
  },
  {
   "cell_type": "code",
   "execution_count": null,
   "metadata": {},
   "outputs": [],
   "source": [
    "import config\n",
    "import update\n",
    "\n",
    "print(config.a)\n",
    "print(config.b)"
   ]
  },
  {
   "cell_type": "markdown",
   "metadata": {},
   "source": [
    "In the above, we have created three files: config.py, update.py, and main.py.\n",
    "\n",
    "The module config.py stores global variables of a and b. In the update.py file, we import the config.py module and modify the values of a and b. Similarly, in the main.py file, we import both config.py and update.py module. Finally, we print and test the values of global variables whether they are changed or not."
   ]
  },
  {
   "cell_type": "markdown",
   "metadata": {},
   "source": [
    "### Global in Nested Functions\n",
    "Here is how you can use a global variable in nested function.\n",
    "\n",
    "#### Example 5: Using a Global Variable in Nested Function"
   ]
  },
  {
   "cell_type": "code",
   "execution_count": null,
   "metadata": {},
   "outputs": [],
   "source": [
    "def foo():\n",
    "    x = 20\n",
    "\n",
    "    def bar():\n",
    "        global x\n",
    "        x = 25\n",
    "    \n",
    "    print(\"Before calling bar: \", x)\n",
    "    print(\"Calling bar now\")\n",
    "    bar()\n",
    "    print(\"After calling bar: \", x)"
   ]
  },
  {
   "cell_type": "code",
   "execution_count": null,
   "metadata": {},
   "outputs": [],
   "source": [
    "foo()\n",
    "print(\"x in main: \", x)"
   ]
  },
  {
   "cell_type": "markdown",
   "metadata": {},
   "source": [
    "In the above program, we declared a global variable inside the nested function bar(). Inside foo() function, x has no effect of the global keyword.\n",
    "\n",
    "Before and after calling bar(), the variable x takes the value of local variable i.e x = 20. Outside of the foo() function, the variable x will take value defined in the bar() function i.e x = 25. This is because we have used global keyword in x to create global variable inside the bar() function (local scope).\n",
    "\n",
    "If we make any changes inside the bar() function, the changes appear outside the local scope, i.e. foo()."
   ]
  },
  {
   "cell_type": "markdown",
   "metadata": {},
   "source": [
    "### Python Modules\n",
    "In this article, you will learn to create and import custom modules in Python. Also, you will find different techniques to import and use custom and built-in modules in Python."
   ]
  },
  {
   "cell_type": "markdown",
   "metadata": {},
   "source": [
    "#### What are modules in Python?\n",
    "Modules refer to a file containing Python statements and definitions.\n",
    "\n",
    "A file containing Python code, for example: example.py, is called a module, and its module name would be example.\n",
    "\n",
    "We use modules to break down large programs into small manageable and organized files. Furthermore, modules provide reusability of code.\n",
    "\n",
    "We can define our most used functions in a module and import it, instead of copying their definitions into different programs.\n",
    "\n",
    "Let us create a module. Type the following and save it as example.py."
   ]
  },
  {
   "cell_type": "code",
   "execution_count": null,
   "metadata": {},
   "outputs": [],
   "source": [
    "# Python Module example\n",
    "\n",
    "def add(a, b):\n",
    "   \"\"\"This program adds two\n",
    "   numbers and return the result\"\"\"\n",
    "\n",
    "   result = a + b\n",
    "   return result"
   ]
  },
  {
   "cell_type": "markdown",
   "metadata": {},
   "source": [
    "Here, we have defined a function add() inside a module named example. The function takes in two numbers and returns their sum.\n",
    "\n",
    "#### How to import modules in Python?\n",
    "We can import the definitions inside a module to another module or the interactive interpreter in Python.\n",
    "\n",
    "We use the import keyword to do this. To import our previously defined module example, we type the following in the Python prompt.\n",
    "\n"
   ]
  },
  {
   "cell_type": "code",
   "execution_count": null,
   "metadata": {},
   "outputs": [],
   "source": [
    "import example"
   ]
  },
  {
   "cell_type": "code",
   "execution_count": null,
   "metadata": {},
   "outputs": [],
   "source": [
    " example.add(4,5.5)"
   ]
  },
  {
   "cell_type": "markdown",
   "metadata": {},
   "source": [
    "Python has tons of standard modules. You can check out the full list of Python standard modules and their use cases. These files are in the Lib directory inside the location where you installed Python.\n",
    "\n",
    "Standard modules can be imported the same way as we import our user-defined modules.\n",
    "\n",
    "There are various ways to import modules. They are listed below..\n",
    "\n",
    "### Python import statement\n",
    "We can import a module using the import statement and access the definitions inside it using the dot operator as described above. Here is an example."
   ]
  },
  {
   "cell_type": "code",
   "execution_count": null,
   "metadata": {},
   "outputs": [],
   "source": [
    "# import statement example\n",
    "# to import standard module math\n",
    "\n",
    "import math\n",
    "print(\"The value of pi is\", math.pi)"
   ]
  },
  {
   "cell_type": "markdown",
   "metadata": {},
   "source": [
    "#### Import with renaming\n",
    "\n",
    "We can import a module by renaming it as follows:"
   ]
  },
  {
   "cell_type": "code",
   "execution_count": null,
   "metadata": {},
   "outputs": [],
   "source": [
    "# import module by renaming it\n",
    "\n",
    "import math as m\n",
    "print(\"The value of pi is\", m.pi)"
   ]
  },
  {
   "cell_type": "markdown",
   "metadata": {},
   "source": [
    "We have renamed the math module as m. This can save us typing time in some cases.\n",
    "\n",
    "Note that the name math is not recognized in our scope. Hence, math.pi is invalid, and m.pi is the correct implementation.\n",
    "\n",
    "#### Python from...import statement\n",
    "We can import specific names from a module without importing the module as a whole. Here is an example."
   ]
  },
  {
   "cell_type": "code",
   "execution_count": null,
   "metadata": {},
   "outputs": [],
   "source": [
    "# import only pi from math module\n",
    "\n",
    "from math import pi\n",
    "print(\"The value of pi is\", pi)"
   ]
  },
  {
   "cell_type": "markdown",
   "metadata": {},
   "source": [
    "Here, we imported only the pi attribute from the math module.\n",
    "\n",
    "In such cases, we don't use the dot operator. We can also import multiple attributes as follows:"
   ]
  },
  {
   "cell_type": "code",
   "execution_count": null,
   "metadata": {},
   "outputs": [],
   "source": [
    "from math import pi, e"
   ]
  },
  {
   "cell_type": "code",
   "execution_count": null,
   "metadata": {},
   "outputs": [],
   "source": [
    "pi"
   ]
  },
  {
   "cell_type": "code",
   "execution_count": null,
   "metadata": {},
   "outputs": [],
   "source": [
    "e"
   ]
  },
  {
   "cell_type": "markdown",
   "metadata": {},
   "source": [
    "Import all names\n",
    "We can import all names(definitions) from a module using the following construct:"
   ]
  },
  {
   "cell_type": "code",
   "execution_count": null,
   "metadata": {},
   "outputs": [],
   "source": [
    "from math import *"
   ]
  },
  {
   "cell_type": "markdown",
   "metadata": {},
   "source": [
    "Here, we have imported all the definitions from the math module. This includes all names visible in our scope except those beginning with an underscore(private definitions).\n",
    "\n",
    "Importing everything with the asterisk (*) symbol is not a good programming practice. This can lead to duplicate definitions for an identifier. It also hampers the readability of our code."
   ]
  },
  {
   "cell_type": "markdown",
   "metadata": {},
   "source": [
    "#### Python Module Search Path\n",
    "While importing a module, Python looks at several places. Interpreter first looks for a built-in module. Then(if built-in module not found), Python looks into a list of directories defined in sys.path. The search is in this order.\n",
    "\n",
    "The current directory.\n",
    "PYTHONPATH (an environment variable with a list of directories).\n",
    "The installation-dependent default directory."
   ]
  },
  {
   "cell_type": "code",
   "execution_count": null,
   "metadata": {},
   "outputs": [],
   "source": [
    "import sys"
   ]
  },
  {
   "cell_type": "code",
   "execution_count": null,
   "metadata": {},
   "outputs": [],
   "source": [
    "sys.path"
   ]
  },
  {
   "cell_type": "markdown",
   "metadata": {},
   "source": [
    "### The dir() built-in function\n",
    "We can use the dir() function to find out names that are defined inside a module.\n",
    "\n",
    "For example, we have defined a function add() in the module example that we had in the beginning.\n",
    "\n",
    "We can use dir in example module in the following way:"
   ]
  },
  {
   "cell_type": "code",
   "execution_count": null,
   "metadata": {},
   "outputs": [],
   "source": [
    "dir(example)"
   ]
  },
  {
   "cell_type": "markdown",
   "metadata": {},
   "source": [
    "Here, we can see a sorted list of names (along with add). All other names that begin with an underscore are default Python attributes associated with the module (not user-defined).\n",
    "\n",
    "For example, the __name__ attribute contains the name of the module"
   ]
  },
  {
   "cell_type": "code",
   "execution_count": null,
   "metadata": {},
   "outputs": [],
   "source": [
    "import example"
   ]
  },
  {
   "cell_type": "code",
   "execution_count": null,
   "metadata": {},
   "outputs": [],
   "source": [
    "example.__name__"
   ]
  },
  {
   "cell_type": "markdown",
   "metadata": {},
   "source": [
    "### Python Package\n",
    "In this article, you'll learn to divide your code base into clean, efficient modules using Python packages. Also, you'll learn to import and use your own or third party packagesin your Python program."
   ]
  },
  {
   "cell_type": "markdown",
   "metadata": {},
   "source": [
    "#### What are packages?\n",
    "We don't usually store all of our files on our computer in the same location. We use a well-organized hierarchy of directories for easier access.\n",
    "\n",
    "Similar files are kept in the same directory, for example, we may keep all the songs in the \"music\" directory. Analogous to this, Python has packages for directories and modules for files.\n",
    "\n",
    "As our application program grows larger in size with a lot of modules, we place similar modules in one package and different modules in different packages. This makes a project (program) easy to manage and conceptually clear.\n",
    "\n",
    "Similarly, as a directory can contain subdirectories and files, a Python package can have sub-packages and modules.\n",
    "\n",
    "A directory must contain a file named __init__.py in order for Python to consider it as a package. This file can be left empty but we generally place the initialization code for that package in this file.\n",
    "\n",
    "Here is an example. Suppose we are developing a game. One possible organization of packages and modules could be as shown in the figure below.\n",
    "\n",
    "![](https://cdn.programiz.com/sites/tutorial2program/files/PackageModuleStructure.jpg)"
   ]
  },
  {
   "cell_type": "markdown",
   "metadata": {},
   "source": [
    "### Importing module from a package\n",
    "We can import modules from packages using the dot (.) operator.\n",
    "\n",
    "For example, if we want to import the pyplot module in the above example, it can be done as follows:"
   ]
  },
  {
   "cell_type": "code",
   "execution_count": null,
   "metadata": {},
   "outputs": [],
   "source": [
    "import matplotlib.pyplot"
   ]
  },
  {
   "cell_type": "markdown",
   "metadata": {},
   "source": [
    "Now, if this module contains a function named select_difficulty(), we must use the full name to reference it.\n",
    "\n"
   ]
  },
  {
   "cell_type": "code",
   "execution_count": null,
   "metadata": {},
   "outputs": [],
   "source": [
    "matplotlib.pyplot.show()"
   ]
  },
  {
   "cell_type": "markdown",
   "metadata": {},
   "source": [
    "If this construct seems lengthy, we can import the module without the package prefix as follows:"
   ]
  },
  {
   "cell_type": "code",
   "execution_count": null,
   "metadata": {},
   "outputs": [],
   "source": [
    "from matplotlib import pyplot"
   ]
  },
  {
   "cell_type": "markdown",
   "metadata": {},
   "source": [
    "We can now call the function simply as follows:"
   ]
  },
  {
   "cell_type": "code",
   "execution_count": null,
   "metadata": {},
   "outputs": [],
   "source": [
    "pyplot.show()"
   ]
  },
  {
   "cell_type": "markdown",
   "metadata": {},
   "source": [
    "Another way of importing just the required function (or class or variable) from a module within a package would be as follows:"
   ]
  },
  {
   "cell_type": "code",
   "execution_count": null,
   "metadata": {},
   "outputs": [],
   "source": [
    "from matplotlib.pyplot import show"
   ]
  },
  {
   "cell_type": "markdown",
   "metadata": {},
   "source": [
    "Now we can directly call this function."
   ]
  },
  {
   "cell_type": "code",
   "execution_count": null,
   "metadata": {},
   "outputs": [],
   "source": [
    "show()"
   ]
  },
  {
   "cell_type": "code",
   "execution_count": null,
   "metadata": {},
   "outputs": [],
   "source": []
  },
  {
   "cell_type": "code",
   "execution_count": null,
   "metadata": {},
   "outputs": [],
   "source": []
  },
  {
   "cell_type": "code",
   "execution_count": null,
   "metadata": {},
   "outputs": [],
   "source": []
  }
 ],
 "metadata": {
  "kernelspec": {
   "display_name": "Python 3",
   "language": "python",
   "name": "python3"
  },
  "language_info": {
   "codemirror_mode": {
    "name": "ipython",
    "version": 3
   },
   "file_extension": ".py",
   "mimetype": "text/x-python",
   "name": "python",
   "nbconvert_exporter": "python",
   "pygments_lexer": "ipython3",
   "version": "3.8.3"
  }
 },
 "nbformat": 4,
 "nbformat_minor": 4
}
