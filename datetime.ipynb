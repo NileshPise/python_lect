{
 "cells": [
  {
   "cell_type": "markdown",
   "metadata": {},
   "source": [
    "### Python datetime\n",
    "In this article, you will learn to manipulate date and time in Python with the help of examples.\n",
    "\n",
    "Python has a module named datetime to work with dates and times. Let's create a few simple programs related to date and time before we dig deeper.\n",
    "\n",
    "#### Example 1: Get Current Date and Time"
   ]
  },
  {
   "cell_type": "code",
   "execution_count": 1,
   "metadata": {},
   "outputs": [],
   "source": [
    "import datetime"
   ]
  },
  {
   "cell_type": "code",
   "execution_count": 3,
   "metadata": {},
   "outputs": [],
   "source": [
    "datetime_object = datetime.datetime.now()"
   ]
  },
  {
   "cell_type": "code",
   "execution_count": 4,
   "metadata": {},
   "outputs": [
    {
     "name": "stdout",
     "output_type": "stream",
     "text": [
      "2020-12-11 19:13:37.672154\n"
     ]
    }
   ],
   "source": [
    "print(datetime_object)"
   ]
  },
  {
   "cell_type": "markdown",
   "metadata": {},
   "source": [
    "Here, we have imported datetime module using import datetime statement.\n",
    "\n",
    "One of the classes defined in the datetime module is datetime class. We then used now() method to create a datetime object containing the current local date and time.\n",
    "\n",
    "#### Example 2: Get Current Date"
   ]
  },
  {
   "cell_type": "code",
   "execution_count": 5,
   "metadata": {},
   "outputs": [],
   "source": [
    "import datetime\n",
    "\n",
    "datetime_today = datetime.date.today()"
   ]
  },
  {
   "cell_type": "code",
   "execution_count": 6,
   "metadata": {},
   "outputs": [
    {
     "name": "stdout",
     "output_type": "stream",
     "text": [
      "2020-12-11\n"
     ]
    }
   ],
   "source": [
    "print(datetime_today)"
   ]
  },
  {
   "cell_type": "markdown",
   "metadata": {},
   "source": [
    "In this program, we have used today() method defined in the date class to get a date object containing the current local date.\n",
    "\n",
    "#### What's inside datetime?\n",
    "\n",
    "We can use dir() function to get a list containing all attributes of a module."
   ]
  },
  {
   "cell_type": "code",
   "execution_count": 7,
   "metadata": {},
   "outputs": [
    {
     "name": "stdout",
     "output_type": "stream",
     "text": [
      "['MAXYEAR', 'MINYEAR', '__builtins__', '__cached__', '__doc__', '__file__', '__loader__', '__name__', '__package__', '__spec__', 'date', 'datetime', 'datetime_CAPI', 'sys', 'time', 'timedelta', 'timezone', 'tzinfo']\n"
     ]
    }
   ],
   "source": [
    "import datetime\n",
    "\n",
    "print(dir(datetime))"
   ]
  },
  {
   "cell_type": "markdown",
   "metadata": {},
   "source": [
    "#### Commonly used classes in the datetime module are:\n",
    "\n",
    "1. date Class\n",
    "2. time Class\n",
    "3. datetime Class\n",
    "4. timedelta Class"
   ]
  },
  {
   "cell_type": "markdown",
   "metadata": {},
   "source": [
    "### datetime.date Class\n",
    "You can instantiate date objects from the date class. A date object represents a date (year, month and day).\n",
    "\n",
    "#### Example 3: Date object to represent a date"
   ]
  },
  {
   "cell_type": "code",
   "execution_count": 12,
   "metadata": {},
   "outputs": [],
   "source": [
    "import datetime"
   ]
  },
  {
   "cell_type": "code",
   "execution_count": 13,
   "metadata": {},
   "outputs": [],
   "source": [
    "d = datetime.date(2020, 12,10)"
   ]
  },
  {
   "cell_type": "code",
   "execution_count": null,
   "metadata": {},
   "outputs": [],
   "source": [
    "print(d)"
   ]
  },
  {
   "cell_type": "code",
   "execution_count": 16,
   "metadata": {},
   "outputs": [
    {
     "data": {
      "text/plain": [
       "datetime.date"
      ]
     },
     "execution_count": 16,
     "metadata": {},
     "output_type": "execute_result"
    }
   ],
   "source": [
    "type(d)"
   ]
  },
  {
   "cell_type": "markdown",
   "metadata": {},
   "source": [
    "If you are wondering, date() in the above example is a constructor of the date class. The constructor takes three arguments: year, month and day.\n",
    "\n",
    "The variable a is a date object.\n",
    "\n",
    "We can only import date class from the datetime module. Here's how:"
   ]
  },
  {
   "cell_type": "code",
   "execution_count": 17,
   "metadata": {},
   "outputs": [],
   "source": [
    "from datetime import date"
   ]
  },
  {
   "cell_type": "code",
   "execution_count": 18,
   "metadata": {},
   "outputs": [
    {
     "name": "stdout",
     "output_type": "stream",
     "text": [
      "2019-12-03\n"
     ]
    }
   ],
   "source": [
    "var = date(2019, 12,3)\n",
    "\n",
    "print(var)"
   ]
  },
  {
   "cell_type": "markdown",
   "metadata": {},
   "source": [
    "#### Example 4: Get current date\n",
    "You can create a date object containing the current date by using a classmethod named today(). Here's how:"
   ]
  },
  {
   "cell_type": "code",
   "execution_count": 19,
   "metadata": {},
   "outputs": [],
   "source": [
    "from datetime import date"
   ]
  },
  {
   "cell_type": "code",
   "execution_count": 20,
   "metadata": {},
   "outputs": [],
   "source": [
    "today = date.today()"
   ]
  },
  {
   "cell_type": "code",
   "execution_count": 21,
   "metadata": {},
   "outputs": [
    {
     "name": "stdout",
     "output_type": "stream",
     "text": [
      "Current date = 2020-12-11\n"
     ]
    }
   ],
   "source": [
    "print(\"Current date =\",today)"
   ]
  },
  {
   "cell_type": "markdown",
   "metadata": {},
   "source": [
    "#### Example 5: Get date from a timestamp\n",
    "We can also create date objects from a timestamp. A Unix timestamp is the number of seconds between a particular date and January 1, 1970 at UTC. You can convert a timestamp to date using fromtimestamp() method."
   ]
  },
  {
   "cell_type": "code",
   "execution_count": 27,
   "metadata": {},
   "outputs": [],
   "source": [
    "from datetime import date\n",
    "\n",
    "from_timestamp = date.fromtimestamp(12383743234)\n"
   ]
  },
  {
   "cell_type": "code",
   "execution_count": 28,
   "metadata": {},
   "outputs": [
    {
     "name": "stdout",
     "output_type": "stream",
     "text": [
      "Date = 2362-06-05\n"
     ]
    }
   ],
   "source": [
    "print(\"Date =\", from_timestamp)"
   ]
  },
  {
   "cell_type": "markdown",
   "metadata": {},
   "source": [
    "#### Example 6: Print today's year, month and day\n",
    "We can get year, month, day, day of the week etc. from the date object easily. Here's how:"
   ]
  },
  {
   "cell_type": "code",
   "execution_count": 30,
   "metadata": {},
   "outputs": [],
   "source": [
    "from datetime import date\n",
    "\n",
    "today = date.today()"
   ]
  },
  {
   "cell_type": "code",
   "execution_count": null,
   "metadata": {},
   "outputs": [],
   "source": [
    "print(\"Current Year =\", today.year)"
   ]
  },
  {
   "cell_type": "code",
   "execution_count": null,
   "metadata": {},
   "outputs": [],
   "source": [
    "print(\"Current Month =\", today.month)"
   ]
  },
  {
   "cell_type": "code",
   "execution_count": null,
   "metadata": {},
   "outputs": [],
   "source": [
    "print(\"Current Day =\", today.day)"
   ]
  },
  {
   "cell_type": "markdown",
   "metadata": {},
   "source": [
    "### datetime.time\n",
    "A time object instantiated from the time class represents the local time.\n",
    "\n",
    "#### Example 7: Time object to represent time"
   ]
  },
  {
   "cell_type": "code",
   "execution_count": 35,
   "metadata": {},
   "outputs": [],
   "source": [
    "from datetime import time"
   ]
  },
  {
   "cell_type": "code",
   "execution_count": 37,
   "metadata": {},
   "outputs": [
    {
     "name": "stdout",
     "output_type": "stream",
     "text": [
      "time = 00:00:00\n"
     ]
    }
   ],
   "source": [
    "t = time()\n",
    "print(\"time =\", t)"
   ]
  },
  {
   "cell_type": "code",
   "execution_count": 38,
   "metadata": {},
   "outputs": [
    {
     "name": "stdout",
     "output_type": "stream",
     "text": [
      "a = 13:34:56.007765\n"
     ]
    }
   ],
   "source": [
    "a = time(13, 34, 56, 7765)\n",
    "print(\"a =\", a)"
   ]
  },
  {
   "cell_type": "code",
   "execution_count": 39,
   "metadata": {},
   "outputs": [
    {
     "name": "stdout",
     "output_type": "stream",
     "text": [
      "b = 10:12:56\n"
     ]
    }
   ],
   "source": [
    "b = time(hour=10, minute=12, second=56)\n",
    "print(\"b =\", b)"
   ]
  },
  {
   "cell_type": "code",
   "execution_count": 40,
   "metadata": {},
   "outputs": [
    {
     "name": "stdout",
     "output_type": "stream",
     "text": [
      "c = 12:23:34.005678\n"
     ]
    }
   ],
   "source": [
    "c = time(12,23,34,5678)\n",
    "print(\"c =\", c)"
   ]
  },
  {
   "cell_type": "markdown",
   "metadata": {},
   "source": [
    "#### Example 8: Print hour, minute, second and microsecond\n",
    "Once you create a time object, you can easily print its attributes such as hour, minute etc."
   ]
  },
  {
   "cell_type": "code",
   "execution_count": null,
   "metadata": {},
   "outputs": [],
   "source": [
    "from datetime import time\n",
    "\n",
    "time = time(10,12,34)\n",
    "\n",
    "print(\"Time =\", time)"
   ]
  },
  {
   "cell_type": "code",
   "execution_count": null,
   "metadata": {},
   "outputs": [],
   "source": [
    "print(\"Hours =\", time.hour)"
   ]
  },
  {
   "cell_type": "code",
   "execution_count": null,
   "metadata": {},
   "outputs": [],
   "source": [
    "print(\"Minute =\", time.minute)"
   ]
  },
  {
   "cell_type": "code",
   "execution_count": null,
   "metadata": {},
   "outputs": [],
   "source": [
    "print(\"Seconds =\", time.second)"
   ]
  },
  {
   "cell_type": "code",
   "execution_count": null,
   "metadata": {},
   "outputs": [],
   "source": [
    "print(\"Micro Second =\", time.microsecond)"
   ]
  },
  {
   "cell_type": "markdown",
   "metadata": {},
   "source": [
    "Notice that we haven't passed microsecond argument. Hence, its default value 0 is printed."
   ]
  },
  {
   "cell_type": "markdown",
   "metadata": {},
   "source": [
    "### datetime.datetime\n",
    "The datetime module has a class named dateclass that can contain information from both date and time objects.\n",
    "\n",
    "#### Example 9: Python datetime object"
   ]
  },
  {
   "cell_type": "code",
   "execution_count": null,
   "metadata": {},
   "outputs": [],
   "source": [
    "from datetime import datetime"
   ]
  },
  {
   "cell_type": "code",
   "execution_count": null,
   "metadata": {},
   "outputs": [],
   "source": [
    "a = datetime(2019,12,23)\n",
    "\n",
    "print(\"a =\", a)"
   ]
  },
  {
   "cell_type": "code",
   "execution_count": 42,
   "metadata": {},
   "outputs": [
    {
     "name": "stdout",
     "output_type": "stream",
     "text": [
      "b = 2019-12-14 10:12:23.089797\n"
     ]
    }
   ],
   "source": [
    "b = datetime(2019,12, 14, 10, 12, 23, 89797)\n",
    "\n",
    "print(\"b =\", b)"
   ]
  },
  {
   "cell_type": "markdown",
   "metadata": {},
   "source": [
    "The first three arguments year, month and day in the datetime() constructor are mandatory.\n",
    "\n",
    "#### Example 10: Print year, month, hour, minute and timestamp"
   ]
  },
  {
   "cell_type": "code",
   "execution_count": 44,
   "metadata": {},
   "outputs": [
    {
     "name": "stdout",
     "output_type": "stream",
     "text": [
      "year = 2017\n"
     ]
    }
   ],
   "source": [
    "from datetime import datetime\n",
    "\n",
    "a = datetime(2017, 11, 28, 23, 55, 59, 342380)\n",
    "print(\"year =\", a.year)\n"
   ]
  },
  {
   "cell_type": "code",
   "execution_count": 45,
   "metadata": {},
   "outputs": [
    {
     "name": "stdout",
     "output_type": "stream",
     "text": [
      "month = 11\n",
      "hour = 23\n",
      "minute = 55\n",
      "timestamp = 1511893559.34238\n"
     ]
    }
   ],
   "source": [
    "print(\"month =\", a.month)\n",
    "print(\"hour =\", a.hour)\n",
    "print(\"minute =\", a.minute)\n",
    "print(\"timestamp =\", a.timestamp())"
   ]
  },
  {
   "cell_type": "markdown",
   "metadata": {},
   "source": [
    "### datetime.timedelta\n",
    "A timedelta object represents the difference between two dates or times.\n",
    "\n",
    "#### Example 11: Difference between two dates and times"
   ]
  },
  {
   "cell_type": "code",
   "execution_count": null,
   "metadata": {},
   "outputs": [],
   "source": [
    "from datetime import date, time, datetime"
   ]
  },
  {
   "cell_type": "code",
   "execution_count": null,
   "metadata": {},
   "outputs": [],
   "source": [
    "t1 = date(year=2019, month= 12, day=23)\n",
    "t2 = date(year=2019, month=12, day=30)"
   ]
  },
  {
   "cell_type": "code",
   "execution_count": null,
   "metadata": {},
   "outputs": [],
   "source": [
    "t3 = t2 - t1\n",
    "\n",
    "print(\"diff t3 =\", t3)"
   ]
  },
  {
   "cell_type": "code",
   "execution_count": null,
   "metadata": {},
   "outputs": [],
   "source": [
    "t4 = datetime(year=2019, month=12, day=23, hour= 12, minute=34, second= 12)\n",
    "t5 = datetime(year=2019, month=12, day=30, hour=12, minute= 43, second=34)"
   ]
  },
  {
   "cell_type": "code",
   "execution_count": null,
   "metadata": {},
   "outputs": [],
   "source": [
    "t6 = t5 - t4\n",
    "\n",
    "print(t6)"
   ]
  },
  {
   "cell_type": "code",
   "execution_count": null,
   "metadata": {},
   "outputs": [],
   "source": [
    "print(\"dtype of dates t3 =\", type(t3))\n",
    "print(\"dtype of dates t6 =\", type(t6))"
   ]
  },
  {
   "cell_type": "markdown",
   "metadata": {},
   "source": [
    "Example 12: Difference between two timedelta objects"
   ]
  },
  {
   "cell_type": "code",
   "execution_count": null,
   "metadata": {},
   "outputs": [],
   "source": [
    "from datetime import timedelta\n",
    "\n",
    "t1 = timedelta(weeks=3, days=3, hours=12, minutes=23, seconds=11)\n",
    "t2 = timedelta(days=3, hours=5, minutes=34, seconds=23)\n",
    "\n",
    "t3 = t1 - t2\n",
    "\n",
    "print(\"timedelta diff =\", t3)"
   ]
  },
  {
   "cell_type": "markdown",
   "metadata": {},
   "source": [
    "#### Example 13: Printing negative timedelta object"
   ]
  },
  {
   "cell_type": "code",
   "execution_count": null,
   "metadata": {},
   "outputs": [],
   "source": [
    "from datetime import timedelta\n",
    "\n",
    "t1 = timedelta(seconds=34)\n",
    "t2 = timedelta(seconds=54)\n",
    "\n",
    "t3 = t1 - t2\n",
    "\n",
    "print(\"t3 =\", t3)\n",
    "\n",
    "print(\"t3 =\", abs(t3))"
   ]
  },
  {
   "cell_type": "markdown",
   "metadata": {},
   "source": [
    "#### Example 14: Time duration in seconds\n",
    "You can get the total number of seconds in a timedelta object using total_seconds() method."
   ]
  },
  {
   "cell_type": "code",
   "execution_count": null,
   "metadata": {},
   "outputs": [],
   "source": [
    "from datetime import timedelta\n",
    "\n",
    "time = timedelta(hours=12, minutes=12, seconds=12)\n",
    "\n",
    "print(\"Total seconds =\", time.total_seconds())"
   ]
  },
  {
   "cell_type": "markdown",
   "metadata": {},
   "source": [
    "You can also find sum of two dates and times using + operator. Also, you can multiply and divide a timedelta object by integers and floats.\n",
    "\n",
    "### Python format datetime\n",
    "The way date and time is represented may be different in different places, organizations etc. It's more common to use mm/dd/yyyy in the US, whereas dd/mm/yyyy is more common in the UK.\n",
    "\n",
    "Python has strftime() and strptime() methods to handle this.\n",
    "\n",
    "#### Python strftime() - datetime object to string\n",
    "The strftime() method is defined under classes date, datetime and time. The method creates a formatted string from a given date, datetime or time object.\n",
    "\n",
    "#### Example 15: Format date using strftime()"
   ]
  },
  {
   "cell_type": "code",
   "execution_count": null,
   "metadata": {},
   "outputs": [],
   "source": [
    "from datetime import datetime\n",
    "\n",
    "now = datetime.now()"
   ]
  },
  {
   "cell_type": "code",
   "execution_count": null,
   "metadata": {},
   "outputs": [],
   "source": [
    "print(now)"
   ]
  },
  {
   "cell_type": "code",
   "execution_count": null,
   "metadata": {},
   "outputs": [],
   "source": [
    "t1 = print(now.strftime(\"%H:%M:%S\"))"
   ]
  },
  {
   "cell_type": "code",
   "execution_count": null,
   "metadata": {},
   "outputs": [],
   "source": [
    "s1 = now.strftime(\"%y-%m-%d %H:%M:%S\")\n",
    "print(\"s1 =\", s1)"
   ]
  },
  {
   "cell_type": "code",
   "execution_count": null,
   "metadata": {},
   "outputs": [],
   "source": [
    "s2 = now.strftime(\"%m/%d/%y %H:%M:%S\")\n",
    "print(\"s2 =\", s2)"
   ]
  },
  {
   "cell_type": "code",
   "execution_count": null,
   "metadata": {},
   "outputs": [],
   "source": [
    "Here, %Y, %m, %d, %H etc. are format codes. The strftime() method takes one or more format codes and returns a formatted string based on it.\n",
    "\n",
    "In the above program, t, s1 and s2 are strings.\n",
    "\n",
    "%Y - year [0001,..., 2018, 2019,..., 9999]\n",
    "%m - month [01, 02, ..., 11, 12]\n",
    "%d - day [01, 02, ..., 30, 31]\n",
    "%H - hour [00, 01, ..., 22, 23\n",
    "%M - minute [00, 01, ..., 58, 59]\n",
    "%S - second [00, 01, ..., 58, 59]\n",
    "To learn more about strftime() and format codes, visit: Python strftime()."
   ]
  },
  {
   "cell_type": "markdown",
   "metadata": {},
   "source": [
    "### Python strptime() - string to datetime\n",
    "The strptime() method creates a datetime object from a given string (representing date and time).\n",
    "\n",
    "#### Example 16: strptime()"
   ]
  },
  {
   "cell_type": "code",
   "execution_count": null,
   "metadata": {},
   "outputs": [],
   "source": [
    "from datetime import datetime\n",
    "\n",
    "date_string = \"21 June, 2018\"\n",
    "print(\"date_string =\", date_string)"
   ]
  },
  {
   "cell_type": "code",
   "execution_count": null,
   "metadata": {},
   "outputs": [],
   "source": [
    "date_object = datetime.strptime(date_string, \"%d %B, %Y\")\n",
    "print(\"date_object =\", date_object)"
   ]
  },
  {
   "cell_type": "markdown",
   "metadata": {},
   "source": [
    "The strptime() method takes two arguments:\n",
    "\n",
    "a string representing date and time\n",
    "format code equivalent to the first argument\n",
    "By the way, %d, %B and %Y format codes are used for day, month(full name) and year respectively.\n",
    "\n",
    "Visit Python strptime() to learn more.\n",
    "\n",
    "### Handling timezone in Python\n",
    "Suppose, you are working on a project and need to display date and time based on their timezone. Rather than trying to handle timezone yourself, we suggest you to use a third-party pytZ module."
   ]
  },
  {
   "cell_type": "code",
   "execution_count": null,
   "metadata": {},
   "outputs": [],
   "source": [
    "from datetime import datetime\n",
    "import pytz\n",
    "\n",
    "local = datetime.now()\n",
    "print(\"Local:\", local.strftime(\"%m/%d/%Y, %H:%M:%S\"))"
   ]
  },
  {
   "cell_type": "code",
   "execution_count": null,
   "metadata": {},
   "outputs": [],
   "source": [
    "tz_NY = pytz.timezone('America/New_York') \n",
    "datetime_NY = datetime.now(tz_NY)\n",
    "print(\"NY:\", datetime_NY.strftime(\"%m/%d/%Y, %H:%M:%S\"))"
   ]
  },
  {
   "cell_type": "code",
   "execution_count": null,
   "metadata": {},
   "outputs": [],
   "source": [
    "tz_London = pytz.timezone('Europe/London')\n",
    "datetime_London = datetime.now(tz_London)\n",
    "print(\"London:\", datetime_London.strftime(\"%m/%d/%Y, %H:%M:%S\"))"
   ]
  },
  {
   "cell_type": "markdown",
   "metadata": {},
   "source": [
    "### Python strftime()\n",
    "In this article, you will learn to convert date, time and datetime objects to its equivalent string (with the help of examples)\n",
    "\n",
    "The strftime() method returns a string representing date and time using date, time or datetime object."
   ]
  },
  {
   "cell_type": "markdown",
   "metadata": {},
   "source": [
    "### Example 1: datetime to string using strftime()\n",
    "The program below converts a datetime object containing current date and time to different string formats."
   ]
  },
  {
   "cell_type": "code",
   "execution_count": 46,
   "metadata": {},
   "outputs": [
    {
     "name": "stdout",
     "output_type": "stream",
     "text": [
      "2020-12-11 20:11:17.497281\n"
     ]
    }
   ],
   "source": [
    "\n",
    "from datetime import datetime\n",
    "\n",
    "now = datetime.now() # current date and time\n",
    "\n",
    "print(now)"
   ]
  },
  {
   "cell_type": "code",
   "execution_count": 47,
   "metadata": {},
   "outputs": [
    {
     "name": "stdout",
     "output_type": "stream",
     "text": [
      "year: 2020\n"
     ]
    }
   ],
   "source": [
    "year = now.strftime(\"%Y\")\n",
    "print(\"year:\", year)"
   ]
  },
  {
   "cell_type": "code",
   "execution_count": 48,
   "metadata": {},
   "outputs": [
    {
     "name": "stdout",
     "output_type": "stream",
     "text": [
      "month: 12\n"
     ]
    }
   ],
   "source": [
    "month = now.strftime(\"%m\")\n",
    "print(\"month:\", month)"
   ]
  },
  {
   "cell_type": "code",
   "execution_count": 49,
   "metadata": {},
   "outputs": [
    {
     "name": "stdout",
     "output_type": "stream",
     "text": [
      "day: 11\n"
     ]
    }
   ],
   "source": [
    "day = now.strftime(\"%d\")\n",
    "print(\"day:\", day)"
   ]
  },
  {
   "cell_type": "code",
   "execution_count": 50,
   "metadata": {},
   "outputs": [
    {
     "name": "stdout",
     "output_type": "stream",
     "text": [
      "time: 20:11:17\n"
     ]
    }
   ],
   "source": [
    "time = now.strftime(\"%H:%M:%S\")\n",
    "print(\"time:\", time)"
   ]
  },
  {
   "cell_type": "code",
   "execution_count": 51,
   "metadata": {},
   "outputs": [
    {
     "name": "stdout",
     "output_type": "stream",
     "text": [
      "date and time: 12/11/2020, 20:11:17\n"
     ]
    }
   ],
   "source": [
    "date_time = now.strftime(\"%m/%d/%Y, %H:%M:%S\")\n",
    "print(\"date and time:\",date_time)"
   ]
  },
  {
   "cell_type": "markdown",
   "metadata": {},
   "source": [
    "Here, year, day, time and date_time are strings, whereas now is a datetime object.\n",
    "\n",
    "### How strftime() works?\n",
    "In the above program, %Y, %m, %d etc. are format codes. The strftime() method takes one or more format codes as an argument and returns a formatted string based on it.\n",
    "\n",
    "1. We imported datetime class from the datetime module. It's because the object of datetime class can access strftime() method.\n",
    "\n",
    "![](https://cdn.programiz.com/sites/tutorial2program/files/import-datetime.jpg)\n",
    "\n",
    "2. The datetime object containing current date and time is stored in now variable.\n",
    "\n",
    "![](https://cdn.programiz.com/sites/tutorial2program/files/current-date-time.jpg)\n",
    "\n",
    "3. The strftime() method can be used to create formatted strings.\n",
    "\n",
    "![](https://cdn.programiz.com/sites/tutorial2program/files/python-strftime-format-1.jpg)\n",
    "\n",
    "4. The string you pass to the strftime() method may contain more than one format codes.\n",
    "\n",
    "![](https://cdn.programiz.com/sites/tutorial2program/files/python-strftime-format-2.jpg)"
   ]
  },
  {
   "cell_type": "markdown",
   "metadata": {},
   "source": [
    "#### Example 2: Creating string from a timestamp"
   ]
  },
  {
   "cell_type": "code",
   "execution_count": 52,
   "metadata": {},
   "outputs": [
    {
     "name": "stdout",
     "output_type": "stream",
     "text": [
      "Date time object: 2018-06-12 15:25:22\n"
     ]
    }
   ],
   "source": [
    "from datetime import datetime\n",
    "\n",
    "timestamp = 1528797322\n",
    "date_time = datetime.fromtimestamp(timestamp)\n",
    "\n",
    "print(\"Date time object:\", date_time)"
   ]
  },
  {
   "cell_type": "code",
   "execution_count": 53,
   "metadata": {},
   "outputs": [
    {
     "name": "stdout",
     "output_type": "stream",
     "text": [
      "Output 2: 06/12/2018, 15:25:22\n"
     ]
    }
   ],
   "source": [
    "d = date_time.strftime(\"%m/%d/%Y, %H:%M:%S\")\n",
    "print(\"Output 2:\", d)"
   ]
  },
  {
   "cell_type": "code",
   "execution_count": 56,
   "metadata": {},
   "outputs": [
    {
     "name": "stdout",
     "output_type": "stream",
     "text": [
      "Output 3: 12 June, 2018\n"
     ]
    }
   ],
   "source": [
    "d = date_time.strftime(\"%d %B, %Y\")\n",
    "print(\"Output 3:\", d)\n"
   ]
  },
  {
   "cell_type": "code",
   "execution_count": 55,
   "metadata": {},
   "outputs": [
    {
     "name": "stdout",
     "output_type": "stream",
     "text": [
      "Output 4: 12 June, 2018\n"
     ]
    }
   ],
   "source": [
    "d = date_time.strftime(\"%d %B, %Y\")\n",
    "print(\"Output 4:\", d)"
   ]
  },
  {
   "cell_type": "code",
   "execution_count": null,
   "metadata": {},
   "outputs": [],
   "source": [
    "d = date_time.strftime(\"%I%p\")\n",
    "print(\"Output 5:\", d)"
   ]
  },
  {
   "cell_type": "code",
   "execution_count": null,
   "metadata": {},
   "outputs": [],
   "source": [
    "[   Directive                                            Meaning  \\\n",
    " 0         %a                          Abbreviated weekday name.   \n",
    " 1         %A                                 Full weekday name.   \n",
    " 2         %w                       Weekday as a decimal number.   \n",
    " 3         %d         Day of the month as a zero-padded decimal.   \n",
    " 4        %-d              Day of the month as a decimal number.   \n",
    " 5         %b                            Abbreviated month name.   \n",
    " 6         %B                                   Full month name.   \n",
    " 7         %m             Month as a zero-padded decimal number.   \n",
    " 8        %-m                         Month as a decimal number.   \n",
    " 9         %y  Year without century as a zero-padded decimal ...   \n",
    " 10       %-y          Year without century as a decimal number.   \n",
    " 11        %Y             Year with century as a decimal number.   \n",
    " 12        %H  Hour (24-hour clock) as a zero-padded decimal ...   \n",
    " 13       %-H          Hour (24-hour clock) as a decimal number.   \n",
    " 14        %I  Hour (12-hour clock) as a zero-padded decimal ...   \n",
    " 15       %-I          Hour (12-hour clock) as a decimal number.   \n",
    " 16        %p                                 Locale’s AM or PM.   \n",
    " 17        %M            Minute as a zero-padded decimal number.   \n",
    " 18       %-M                        Minute as a decimal number.   \n",
    " 19        %S            Second as a zero-padded decimal number.   \n",
    " 20       %-S                        Second as a decimal number.   \n",
    " 21        %f  Microsecond as a decimal number, zero-padded o...   \n",
    " 22        %z             UTC offset in the form +HHMM or -HHMM.   \n",
    " 23        %Z                                    Time zone name.   \n",
    " 24        %j   Day of the year as a zero-padded decimal number.   \n",
    " 25       %-j               Day of the year as a decimal number.   \n",
    " 26        %U  Week number of the year (Sunday as the first d...   \n",
    " 27        %W  Week number of the year (Monday as the first d...   \n",
    " 28        %c  Locale’s appropriate date and time representat...   \n",
    " 29        %x          Locale’s appropriate date representation.   \n",
    " 30        %X          Locale’s appropriate time representation.   \n",
    " 31        %%                           A literal '%' character.   \n"
   ]
  },
  {
   "cell_type": "markdown",
   "metadata": {},
   "source": [
    "#### Example 3: Locale's appropriate date and time"
   ]
  },
  {
   "cell_type": "code",
   "execution_count": 57,
   "metadata": {},
   "outputs": [
    {
     "name": "stdout",
     "output_type": "stream",
     "text": [
      "2018-06-12 15:25:22\n"
     ]
    }
   ],
   "source": [
    "from datetime import datetime\n",
    "\n",
    "timestamp = 1528797322\n",
    "date_time = datetime.fromtimestamp(timestamp)\n",
    "\n",
    "print(date_time)"
   ]
  },
  {
   "cell_type": "code",
   "execution_count": 58,
   "metadata": {},
   "outputs": [
    {
     "name": "stdout",
     "output_type": "stream",
     "text": [
      "Output 1: Tue Jun 12 15:25:22 2018\n"
     ]
    }
   ],
   "source": [
    "d = date_time.strftime(\"%c\")\n",
    "print(\"Output 1:\", d)"
   ]
  },
  {
   "cell_type": "code",
   "execution_count": 59,
   "metadata": {},
   "outputs": [
    {
     "name": "stdout",
     "output_type": "stream",
     "text": [
      "Output 2: 06/12/18\n"
     ]
    }
   ],
   "source": [
    "d = date_time.strftime(\"%x\")\n",
    "print(\"Output 2:\", d)"
   ]
  },
  {
   "cell_type": "code",
   "execution_count": 60,
   "metadata": {},
   "outputs": [
    {
     "name": "stdout",
     "output_type": "stream",
     "text": [
      "Output 3: 15:25:22\n"
     ]
    }
   ],
   "source": [
    "d = date_time.strftime(\"%X\")\n",
    "print(\"Output 3:\", d)"
   ]
  },
  {
   "cell_type": "markdown",
   "metadata": {},
   "source": [
    "Format codes %c, %x and %X are used for locale's appropriate date and time representation.\n",
    "\n",
    "We also recommend you to check Python strptime(). The strptime() method creates a datetime object from a string."
   ]
  },
  {
   "cell_type": "markdown",
   "metadata": {},
   "source": [
    "### Python strptime()\n",
    "In this article, you will learn to create a datetime object from a string (with the help of examples).\n",
    "\n",
    "The strptime() method creates a datetime object from the given string.\n",
    "\n",
    "Note: You cannot create datetime object from every string. The string needs to be in a certain format.\n",
    "\n"
   ]
  },
  {
   "cell_type": "markdown",
   "metadata": {},
   "source": [
    "#### Example 1: string to datetime object\n"
   ]
  },
  {
   "cell_type": "code",
   "execution_count": 61,
   "metadata": {},
   "outputs": [
    {
     "name": "stdout",
     "output_type": "stream",
     "text": [
      "date_string = 21 June, 2018\n",
      "type of date_string = <class 'str'>\n"
     ]
    }
   ],
   "source": [
    "from datetime import datetime\n",
    "\n",
    "date_string = \"21 June, 2018\"\n",
    "\n",
    "print(\"date_string =\", date_string)\n",
    "print(\"type of date_string =\", type(date_string))\n"
   ]
  },
  {
   "cell_type": "code",
   "execution_count": 62,
   "metadata": {},
   "outputs": [
    {
     "name": "stdout",
     "output_type": "stream",
     "text": [
      "date_object = 2018-06-21 00:00:00\n",
      "type of date_object = <class 'datetime.datetime'>\n"
     ]
    }
   ],
   "source": [
    "date_object = datetime.strptime(date_string, \"%d %B, %Y\")\n",
    "\n",
    "print(\"date_object =\", date_object)\n",
    "print(\"type of date_object =\", type(date_object))"
   ]
  },
  {
   "cell_type": "markdown",
   "metadata": {},
   "source": [
    "#### How strptime() works?\n",
    "The strptime() class method takes two arguments:\n",
    "\n",
    "1. string (that be converted to datetime)\n",
    "2. format code\n",
    "Based on the string and format code used, the method returns its equivalent datetime object.\n",
    "\n",
    "In the above example:\n",
    "\n",
    "![](https://cdn.programiz.com/sites/tutorial2program/files/python-strptime.jpg)\n",
    "\n",
    "Here,\n",
    "\n",
    "1. %d - Represents the day of the month. Example: 01, 02, ..., 31\n",
    "2. %B - Month's name in full. Example: January, February etc.\n",
    "3. %Y - Year in four digits. Example: 2018, 2019 etc.\n",
    "\n",
    "#### Example 2: string to datetime object"
   ]
  },
  {
   "cell_type": "code",
   "execution_count": 63,
   "metadata": {},
   "outputs": [
    {
     "name": "stdout",
     "output_type": "stream",
     "text": [
      "dt_object1 = 2018-11-12 09:15:32\n"
     ]
    }
   ],
   "source": [
    "from datetime import datetime\n",
    "\n",
    "dt_string = \"12/11/2018 09:15:32\"\n",
    "\n",
    "# Considering date is in dd/mm/yyyy format\n",
    "dt_object1 = datetime.strptime(dt_string, \"%d/%m/%Y %H:%M:%S\")\n",
    "print(\"dt_object1 =\", dt_object1)"
   ]
  },
  {
   "cell_type": "code",
   "execution_count": 64,
   "metadata": {},
   "outputs": [
    {
     "name": "stdout",
     "output_type": "stream",
     "text": [
      "dt_object2 = 2018-12-11 09:15:32\n"
     ]
    }
   ],
   "source": [
    "# Considering date is in mm/dd/yyyy format\n",
    "dt_object2 = datetime.strptime(dt_string, \"%m/%d/%Y %H:%M:%S\")\n",
    "print(\"dt_object2 =\", dt_object2)"
   ]
  },
  {
   "cell_type": "markdown",
   "metadata": {},
   "source": [
    "### How to get current date and time in Python?\n",
    "In this article, you will learn to get today's date and current date and time in Python. We will also format the date and time in different formats using strftime() method.\n",
    "\n",
    "There are a number of ways you can take to get the current date. We will use the date class of the datetime module to accomplish this task.\n",
    "\n",
    "#### Example 1: Python get today's date"
   ]
  },
  {
   "cell_type": "code",
   "execution_count": 65,
   "metadata": {},
   "outputs": [
    {
     "name": "stdout",
     "output_type": "stream",
     "text": [
      "Todays date = 2020-12-11\n"
     ]
    }
   ],
   "source": [
    "from datetime import date\n",
    "\n",
    "todays_date = date.today()\n",
    "\n",
    "print(\"Todays date =\", todays_date)"
   ]
  },
  {
   "cell_type": "markdown",
   "metadata": {},
   "source": [
    "Here, we imported the date class from the datetime module. Then, we used the date.today() method to get the current local date.\n",
    "\n",
    "By the way, date.today() returns a date object, which is assigned to the today variable in the above program. Now, you can use the strftime() method to create a string representing date in different formats.\n",
    "\n",
    "#### Example 2: Current date in different formats"
   ]
  },
  {
   "cell_type": "code",
   "execution_count": null,
   "metadata": {},
   "outputs": [],
   "source": [
    "from datetime import date\n",
    "\n",
    "today = date.today()\n",
    "\n",
    "# dd/mm/YY\n",
    "d1 = today.strftime(\"%d/%m/%Y\")\n",
    "print(\"d1 =\", d1)"
   ]
  },
  {
   "cell_type": "code",
   "execution_count": null,
   "metadata": {},
   "outputs": [],
   "source": [
    "# Textual month, day and year\t\n",
    "d2 = today.strftime(\"%B %d, %Y\")\n",
    "print(\"d2 =\", d2)"
   ]
  },
  {
   "cell_type": "code",
   "execution_count": null,
   "metadata": {},
   "outputs": [],
   "source": [
    "# mm/dd/y\n",
    "d3 = today.strftime(\"%m/%d/%y\")\n",
    "print(\"d3 =\", d3)"
   ]
  },
  {
   "cell_type": "code",
   "execution_count": null,
   "metadata": {},
   "outputs": [],
   "source": [
    "# Month abbreviation, day and year\t\n",
    "d4 = today.strftime(\"%b-%d-%Y\")\n",
    "print(\"d4 =\", d4)"
   ]
  },
  {
   "cell_type": "markdown",
   "metadata": {},
   "source": [
    "If you need to get the current date and time, you can use datetime class of the datetime module.\n",
    "\n",
    "#### Example 3: Get the current date and time"
   ]
  },
  {
   "cell_type": "code",
   "execution_count": null,
   "metadata": {},
   "outputs": [],
   "source": [
    "from datetime import datetime\n",
    "\n",
    "# datetime object containing current date and time\n",
    "now = datetime.now()\n",
    " \n",
    "print(\"now =\", now)"
   ]
  },
  {
   "cell_type": "code",
   "execution_count": null,
   "metadata": {},
   "outputs": [],
   "source": [
    "# dd/mm/YY H:M:S\n",
    "dt_string = now.strftime(\"%d/%m/%Y %H:%M:%S\")\n",
    "print(\"date and time =\", dt_string)"
   ]
  },
  {
   "cell_type": "markdown",
   "metadata": {},
   "source": [
    "### Python Get Current time\n",
    "In this article, you will learn to get current time of your locale as well as different time zones in Python.\n",
    "\n",
    "There are a number of ways you can take to get current time in Python.\n",
    "\n",
    "#### Example 1: Current time using datetime object"
   ]
  },
  {
   "cell_type": "code",
   "execution_count": null,
   "metadata": {},
   "outputs": [],
   "source": [
    "from datetime import datetime\n",
    "\n",
    "now = datetime.now()\n",
    "\n",
    "current_time = now.strftime(\"%H:%M:%S\")\n",
    "print(\"Current Time =\", current_time)"
   ]
  },
  {
   "cell_type": "markdown",
   "metadata": {},
   "source": [
    "In the above example, we have imported datetime class from the datetime module. Then, we used now() method to get a datetime object containing current date and time.\n",
    "\n",
    "Using datetime.strftime() method, we then created a string representing current time.\n",
    "\n",
    "If you need to create a time object containing current time, you can do something like this."
   ]
  },
  {
   "cell_type": "code",
   "execution_count": null,
   "metadata": {},
   "outputs": [],
   "source": [
    "from datetime import datetime\n",
    "\n",
    "now = datetime.now().time() # time object\n",
    "\n",
    "print(\"now =\", now)\n",
    "print(\"type(now) =\", type(now))"
   ]
  },
  {
   "cell_type": "markdown",
   "metadata": {},
   "source": [
    "#### Example 2: Current time using time module\n",
    "You can also get the current time using time module."
   ]
  },
  {
   "cell_type": "code",
   "execution_count": null,
   "metadata": {},
   "outputs": [],
   "source": [
    "import time\n",
    "\n",
    "t = time.localtime()\n",
    "current_time = time.strftime(\"%H:%M:%S\", t)\n",
    "print(current_time)"
   ]
  },
  {
   "cell_type": "markdown",
   "metadata": {},
   "source": [
    "#### Example 3: Current time of a timezone\n",
    "If you need to find current time of a certain timezone, you can use pytZ module.\n"
   ]
  },
  {
   "cell_type": "code",
   "execution_count": null,
   "metadata": {},
   "outputs": [],
   "source": [
    "from datetime import datetime\n",
    "import pytz\n",
    "\n",
    "tz_NY = pytz.timezone('America/New_York') \n",
    "datetime_NY = datetime.now(tz_NY)\n",
    "print(\"NY time:\", datetime_NY.strftime(\"%H:%M:%S\"))"
   ]
  },
  {
   "cell_type": "code",
   "execution_count": null,
   "metadata": {},
   "outputs": [],
   "source": [
    "tz_London = pytz.timezone('Europe/London')\n",
    "datetime_London = datetime.now(tz_London)\n",
    "print(\"London time:\", datetime_London.strftime(\"%H:%M:%S\"))"
   ]
  },
  {
   "cell_type": "markdown",
   "metadata": {},
   "source": [
    "### Python timestamp to datetime and vice-versa\n",
    "In this article, you will learn to convert timestamp to datetime object and datetime object to timestamp (with the help of examples).\n",
    "\n",
    "It's pretty common to store date and time as a timestamp in a database. A Unix timestamp is the number of seconds between a particular date and January 1, 1970 at UTC.\n",
    "\n",
    "#### Example 1: Python timestamp to datetime"
   ]
  },
  {
   "cell_type": "code",
   "execution_count": null,
   "metadata": {},
   "outputs": [],
   "source": [
    "from datetime import datetime\n",
    "\n",
    "timestamp = 1545730073\n",
    "dt_object = datetime.fromtimestamp(timestamp)\n",
    "\n",
    "print(\"dt_object =\", dt_object)\n",
    "print(\"type(dt_object) =\", type(dt_object))"
   ]
  },
  {
   "cell_type": "markdown",
   "metadata": {},
   "source": [
    "Here, we have imported datetime class from the datetime module. Then, we used datetime.fromtimestamp() classmethod which returns the local date and time (datetime object). This object is stored in dt_object variable.\n",
    "\n",
    "\n",
    "Note: You can easily create a string representing date and time from a datetime object using strftime() method.\n",
    "\n",
    "#### Example 2: Python datetime to timestamp\n",
    "You can get timestamp from a datetime object using datetime.timestamp() method."
   ]
  },
  {
   "cell_type": "code",
   "execution_count": null,
   "metadata": {},
   "outputs": [],
   "source": [
    "from datetime import datetime\n",
    "\n",
    "# current date and time\n",
    "now = datetime.now()\n",
    "\n",
    "timestamp = datetime.timestamp(now)\n",
    "print(\"timestamp =\", timestamp)"
   ]
  },
  {
   "cell_type": "markdown",
   "metadata": {},
   "source": [
    "### Python time Module\n",
    "In this article, we will explore time module in detail. We will learn to use different time-related functions defined in the time module with the help of examples.\n",
    "\n",
    "Python has a module named time to handle time-related tasks. To use functions defined in the module, we need to import the module first. Here's how:\n",
    "\n",
    "Here are commonly used time-related functions.\n",
    "\n",
    "#### Python time.time()\n",
    "The time() function returns the number of seconds passed since epoch.\n",
    "\n",
    "For Unix system, January 1, 1970, 00:00:00 at UTC is epoch (the point where time begins)."
   ]
  },
  {
   "cell_type": "code",
   "execution_count": 66,
   "metadata": {},
   "outputs": [
    {
     "name": "stdout",
     "output_type": "stream",
     "text": [
      "Seconds since epoch = 1607697926.6595712\n"
     ]
    }
   ],
   "source": [
    "import time\n",
    "seconds = time.time()\n",
    "print(\"Seconds since epoch =\", seconds)"
   ]
  },
  {
   "cell_type": "markdown",
   "metadata": {},
   "source": [
    "#### Python time.ctime()\n",
    "The time.ctime() function takes seconds passed since epoch as an argument and returns a string representing local time."
   ]
  },
  {
   "cell_type": "code",
   "execution_count": 67,
   "metadata": {},
   "outputs": [
    {
     "name": "stdout",
     "output_type": "stream",
     "text": [
      "Local time: Thu Dec 27 21:19:29 2018\n"
     ]
    }
   ],
   "source": [
    "import time\n",
    "\n",
    "# seconds passed since epoch\n",
    "seconds = 1545925769.9618232\n",
    "local_time = time.ctime(seconds)\n",
    "print(\"Local time:\", local_time)"
   ]
  },
  {
   "cell_type": "markdown",
   "metadata": {},
   "source": [
    "#### Python time.sleep()\n",
    "The sleep() function suspends (delays) execution of the current thread for the given number of seconds."
   ]
  },
  {
   "cell_type": "code",
   "execution_count": 70,
   "metadata": {},
   "outputs": [
    {
     "name": "stdout",
     "output_type": "stream",
     "text": [
      "This is printed immediately.\n",
      "This is printed after 2.4 seconds.\n"
     ]
    }
   ],
   "source": [
    "import time\n",
    "\n",
    "print(\"This is printed immediately.\")\n",
    "time.sleep(5)\n",
    "print(\"This is printed after 2.4 seconds.\")"
   ]
  },
  {
   "cell_type": "markdown",
   "metadata": {},
   "source": [
    "#### time.struct_time Class\n",
    "Several functions in the time module such as gmtime(), asctime() etc. either take time.struct_time object as an argument or return it.\n",
    "\n",
    "Here's an example of time.struct_time object.\n",
    "\n",
    "#### time.struct_time(tm_year=2018, tm_mon=12, tm_mday=27, tm_hour=6, tm_min=35, tm_sec=17, tm_wday=3, tm_yday=361, tm_isdst=0)"
   ]
  },
  {
   "cell_type": "code",
   "execution_count": null,
   "metadata": {},
   "outputs": [],
   "source": [
    "Index\tAttribute\tValues\n",
    "0\ttm_year\t0000, ...., 2018, ..., 9999\n",
    "1\ttm_mon\t1, 2, ..., 12\n",
    "2\ttm_mday\t1, 2, ..., 31\n",
    "3\ttm_hour\t0, 1, ..., 23\n",
    "4\ttm_min\t0, 1, ..., 59\n",
    "5\ttm_sec\t0, 1, ..., 61\n",
    "6\ttm_wday\t0, 1, ..., 6; Monday is 0\n",
    "7\ttm_yday\t1, 2, ..., 366\n",
    "8\ttm_isdst\t0, 1 or -1"
   ]
  },
  {
   "cell_type": "markdown",
   "metadata": {},
   "source": [
    "The values (elements) of the time.struct_time object are accessible using both indices and attributes.\n"
   ]
  },
  {
   "cell_type": "markdown",
   "metadata": {},
   "source": [
    "#### Python time.localtime()\n",
    "The localtime() function takes the number of seconds passed since epoch as an argument and returns struct_time in local time."
   ]
  },
  {
   "cell_type": "code",
   "execution_count": 71,
   "metadata": {},
   "outputs": [
    {
     "name": "stdout",
     "output_type": "stream",
     "text": [
      "result: time.struct_time(tm_year=2018, tm_mon=12, tm_mday=27, tm_hour=21, tm_min=19, tm_sec=29, tm_wday=3, tm_yday=361, tm_isdst=0)\n"
     ]
    }
   ],
   "source": [
    "import time\n",
    "\n",
    "result = time.localtime(1545925769)\n",
    "print(\"result:\", result)"
   ]
  },
  {
   "cell_type": "code",
   "execution_count": 72,
   "metadata": {},
   "outputs": [
    {
     "name": "stdout",
     "output_type": "stream",
     "text": [
      "\n",
      "year: 2018\n",
      "tm_hour: 21\n"
     ]
    }
   ],
   "source": [
    "print(\"\\nyear:\", result.tm_year)\n",
    "print(\"tm_hour:\", result.tm_hour)"
   ]
  },
  {
   "cell_type": "markdown",
   "metadata": {},
   "source": [
    "If no argument or None is passed to localtime(), the value returned by time() is used.\n",
    "\n",
    "#### Python time.gmtime()\n",
    "\n",
    "The gmtime() function takes the number of seconds passed since epoch as an argument and returns struct_time in UTC."
   ]
  },
  {
   "cell_type": "code",
   "execution_count": 73,
   "metadata": {},
   "outputs": [
    {
     "name": "stdout",
     "output_type": "stream",
     "text": [
      "result: time.struct_time(tm_year=2018, tm_mon=12, tm_mday=27, tm_hour=15, tm_min=49, tm_sec=29, tm_wday=3, tm_yday=361, tm_isdst=0)\n"
     ]
    }
   ],
   "source": [
    "import time\n",
    "\n",
    "result = time.gmtime(1545925769)\n",
    "print(\"result:\", result)\n"
   ]
  },
  {
   "cell_type": "code",
   "execution_count": 74,
   "metadata": {},
   "outputs": [
    {
     "name": "stdout",
     "output_type": "stream",
     "text": [
      "\n",
      "year: 2018\n",
      "tm_hour: 15\n"
     ]
    }
   ],
   "source": [
    "print(\"\\nyear:\", result.tm_year)\n",
    "print(\"tm_hour:\", result.tm_hour)"
   ]
  },
  {
   "cell_type": "markdown",
   "metadata": {},
   "source": [
    "#### Python time.mktime()\n",
    "The mktime() function takes struct_time (or a tuple containing 9 elements corresponding to struct_time) as an argument and returns the seconds passed since epoch in local time. Basically, it's the inverse function of localtime()."
   ]
  },
  {
   "cell_type": "code",
   "execution_count": 75,
   "metadata": {},
   "outputs": [
    {
     "name": "stdout",
     "output_type": "stream",
     "text": [
      "Local time: 1545966844.0\n"
     ]
    }
   ],
   "source": [
    "import time\n",
    "\n",
    "t = (2018, 12, 28, 8, 44, 4, 4, 362, 0)\n",
    "\n",
    "local_time = time.mktime(t)\n",
    "print(\"Local time:\", local_time)"
   ]
  },
  {
   "cell_type": "markdown",
   "metadata": {},
   "source": [
    "The example below shows how mktime() and localtime() are related.\n"
   ]
  },
  {
   "cell_type": "code",
   "execution_count": 76,
   "metadata": {},
   "outputs": [
    {
     "name": "stdout",
     "output_type": "stream",
     "text": [
      "t1:  time.struct_time(tm_year=2018, tm_mon=12, tm_mday=27, tm_hour=21, tm_min=19, tm_sec=29, tm_wday=3, tm_yday=361, tm_isdst=0)\n"
     ]
    }
   ],
   "source": [
    "import time\n",
    "\n",
    "seconds = 1545925769\n",
    "\n",
    "# returns struct_time\n",
    "t = time.localtime(seconds)\n",
    "print(\"t1: \", t)"
   ]
  },
  {
   "cell_type": "code",
   "execution_count": null,
   "metadata": {},
   "outputs": [],
   "source": [
    "# returns seconds from struct_time\n",
    "s = time.mktime(t)\n",
    "print(\"\\s:\", seconds)"
   ]
  },
  {
   "cell_type": "markdown",
   "metadata": {},
   "source": [
    "#### Python time.asctime()\n",
    "The asctime() function takes struct_time (or a tuple containing 9 elements corresponding to struct_time) as an argument and returns a string representing it. Here's an example:"
   ]
  },
  {
   "cell_type": "code",
   "execution_count": null,
   "metadata": {},
   "outputs": [],
   "source": [
    "import time\n",
    "\n",
    "t = (2018, 12, 28, 8, 44, 4, 4, 362, 0)\n",
    "\n",
    "result = time.asctime(t)\n",
    "print(\"Result:\", result)"
   ]
  },
  {
   "cell_type": "markdown",
   "metadata": {},
   "source": [
    "### Python time.strftime()\n",
    "The strftime() function takes struct_time (or tuple corresponding to it) as an argument and returns a string representing it based on the format code used. For example,"
   ]
  },
  {
   "cell_type": "code",
   "execution_count": null,
   "metadata": {},
   "outputs": [],
   "source": [
    "import time\n",
    "\n",
    "named_tuple = time.localtime() # get struct_time\n",
    "time_string = time.strftime(\"%m/%d/%Y, %H:%M:%S\", named_tuple)\n",
    "\n",
    "print(time_string)"
   ]
  },
  {
   "cell_type": "markdown",
   "metadata": {},
   "source": [
    "#### Python sleep()\n",
    "The sleep() function suspends (waits) execution of the current thread for a given number of seconds.\n",
    "\n",
    "Python has a module named time which provides several useful functions to handle time-related tasks. One of the popular functions among them is sleep().\n",
    "\n",
    "The sleep() function suspends execution of the current thread for a given number of seconds.\n",
    "\n",
    "#### Example 1: Python sleep()\n"
   ]
  },
  {
   "cell_type": "code",
   "execution_count": null,
   "metadata": {},
   "outputs": [],
   "source": [
    "import time\n",
    "\n",
    "print(\"Printed immediately.\")\n",
    "time.sleep(2.4)\n",
    "print(\"Printed after 2.4 seconds.\")"
   ]
  },
  {
   "cell_type": "markdown",
   "metadata": {},
   "source": [
    "#### Example 2: Python create a digital clock\n"
   ]
  },
  {
   "cell_type": "code",
   "execution_count": null,
   "metadata": {},
   "outputs": [],
   "source": [
    "import time\n",
    "\n",
    "while True:\n",
    "  localtime = time.localtime()\n",
    "  result = time.strftime(\"%I:%M:%S %p\", localtime)\n",
    "  print(result)\n",
    "  time.sleep(1)"
   ]
  },
  {
   "cell_type": "markdown",
   "metadata": {},
   "source": [
    "In the above program, we computed and printed the current local time inside the infinite while loop. Then, the program waits for 1 second. Again, the current local time is computed and printed. This process goes on.\n"
   ]
  },
  {
   "cell_type": "code",
   "execution_count": null,
   "metadata": {},
   "outputs": [
    {
     "name": "stdout",
     "output_type": "stream",
     "text": [
      "08:22:51 PM\r"
     ]
    }
   ],
   "source": [
    "import time\n",
    "\n",
    "while True:\n",
    "  localtime = time.localtime()\n",
    "  result = time.strftime(\"%I:%M:%S %p\", localtime)\n",
    "  print(result, end=\"\", flush=True)\n",
    "  print(\"\\r\", end=\"\", flush=True)\n",
    "  time.sleep(1)"
   ]
  },
  {
   "cell_type": "code",
   "execution_count": null,
   "metadata": {},
   "outputs": [],
   "source": []
  },
  {
   "cell_type": "code",
   "execution_count": null,
   "metadata": {},
   "outputs": [],
   "source": []
  },
  {
   "cell_type": "code",
   "execution_count": null,
   "metadata": {},
   "outputs": [],
   "source": []
  },
  {
   "cell_type": "code",
   "execution_count": null,
   "metadata": {},
   "outputs": [],
   "source": []
  },
  {
   "cell_type": "code",
   "execution_count": null,
   "metadata": {},
   "outputs": [],
   "source": []
  },
  {
   "cell_type": "code",
   "execution_count": null,
   "metadata": {},
   "outputs": [],
   "source": []
  }
 ],
 "metadata": {
  "kernelspec": {
   "display_name": "Python 3",
   "language": "python",
   "name": "python3"
  },
  "language_info": {
   "codemirror_mode": {
    "name": "ipython",
    "version": 3
   },
   "file_extension": ".py",
   "mimetype": "text/x-python",
   "name": "python",
   "nbconvert_exporter": "python",
   "pygments_lexer": "ipython3",
   "version": "3.8.3"
  }
 },
 "nbformat": 4,
 "nbformat_minor": 4
}
